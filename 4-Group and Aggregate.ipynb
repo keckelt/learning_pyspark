{
 "cells": [
  {
   "cell_type": "code",
   "execution_count": 1,
   "id": "5974113e-8dca-43eb-bd66-ab3706215122",
   "metadata": {},
   "outputs": [],
   "source": [
    "from pyspark.sql import SparkSession"
   ]
  },
  {
   "cell_type": "code",
   "execution_count": 2,
   "id": "4ec3a35b-14df-417a-9f22-cfc8ab950330",
   "metadata": {
    "collapsed": true,
    "jupyter": {
     "outputs_hidden": true
    },
    "tags": []
   },
   "outputs": [
    {
     "name": "stderr",
     "output_type": "stream",
     "text": [
      "WARNING: An illegal reflective access operation has occurred\n",
      "WARNING: Illegal reflective access by org.apache.spark.unsafe.Platform (file:/usr/local/spark-3.2.0-bin-hadoop3.2/jars/spark-unsafe_2.12-3.2.0.jar) to constructor java.nio.DirectByteBuffer(long,int)\n",
      "WARNING: Please consider reporting this to the maintainers of org.apache.spark.unsafe.Platform\n",
      "WARNING: Use --illegal-access=warn to enable warnings of further illegal reflective access operations\n",
      "WARNING: All illegal access operations will be denied in a future release\n",
      "Using Spark's default log4j profile: org/apache/spark/log4j-defaults.properties\n",
      "Setting default log level to \"WARN\".\n",
      "To adjust logging level use sc.setLogLevel(newLevel). For SparkR, use setLogLevel(newLevel).\n",
      "21/11/22 12:50:05 WARN NativeCodeLoader: Unable to load native-hadoop library for your platform... using builtin-java classes where applicable\n",
      "21/11/22 12:50:06 WARN Utils: Service 'SparkUI' could not bind on port 4040. Attempting port 4041.\n",
      "21/11/22 12:50:06 WARN Utils: Service 'SparkUI' could not bind on port 4041. Attempting port 4042.\n",
      "21/11/22 12:50:06 WARN Utils: Service 'SparkUI' could not bind on port 4042. Attempting port 4043.\n",
      "21/11/22 12:50:06 WARN Utils: Service 'SparkUI' could not bind on port 4043. Attempting port 4044.\n"
     ]
    }
   ],
   "source": [
    "spark=SparkSession.builder.appName('Agg').getOrCreate()"
   ]
  },
  {
   "cell_type": "code",
   "execution_count": 9,
   "id": "443c0866-9ca7-457d-87a2-0102678b5eb7",
   "metadata": {},
   "outputs": [],
   "source": [
    "df=spark.read.csv('wine_plain.csv',header=True,inferSchema=True) #inferSchema --> age type turns from string to integer"
   ]
  },
  {
   "cell_type": "code",
   "execution_count": 10,
   "id": "d1b8ed2e-b375-4579-8bd4-2b0c7801a45b",
   "metadata": {},
   "outputs": [
    {
     "name": "stdout",
     "output_type": "stream",
     "text": [
      "+---------------+--------------------+--------+-----+---------------+-----+---------+-----+----------+--------------+-------+-----+--------------------+\n",
      "|Winzer/Erzeuger|                Name|     Typ|Farbe|       Rebsorte|  Bio|# Gekauft|Preis|  Herkunft|        Region|Alkohol|notes|           Shop Link|\n",
      "+---------------+--------------------+--------+-----+---------------+-----+---------+-----+----------+--------------+-------+-----+--------------------+\n",
      "|        Fiorini|Becco rosso Lambr...|Perlwein|  rot|      Lambrusco|false|        1|  8.9|   Italien|Emilia Romagna|  0.115| null|https://tuttovino...|\n",
      "|        Fiorini|Re Gusto Lambrusc...|Perlwein|  rot|      Lambrusco|false|        9|  8.9|   Italien|Emilia Romagna|   0.09| null|https://tuttovino...|\n",
      "|    Gschweicher|Grüner Veltliner ...|    Wein| weiß|Grüner Vetliner|false|        3|  8.9|Österreich|   Weinviertel|  0.089| null|https://tuttovino...|\n",
      "|Gruber Röschitz|  Gelber Muskateller|    Wein| weiß|    Muskateller| true|        5|  9.4|Österreich|   Weinviertel|   0.11| null|https://tuttovino...|\n",
      "|       Sandeman| Late Bottle Vintage|Portwein|  rot|           null|false|     null| null|  Portugal|   Porto/Douro|    0.2| null|https://www.sande...|\n",
      "+---------------+--------------------+--------+-----+---------------+-----+---------+-----+----------+--------------+-------+-----+--------------------+\n",
      "only showing top 5 rows\n",
      "\n",
      "root\n",
      " |-- Winzer/Erzeuger: string (nullable = true)\n",
      " |-- Name: string (nullable = true)\n",
      " |-- Typ: string (nullable = true)\n",
      " |-- Farbe: string (nullable = true)\n",
      " |-- Rebsorte: string (nullable = true)\n",
      " |-- Bio: boolean (nullable = true)\n",
      " |-- # Gekauft: integer (nullable = true)\n",
      " |-- Preis: double (nullable = true)\n",
      " |-- Herkunft: string (nullable = true)\n",
      " |-- Region: string (nullable = true)\n",
      " |-- Alkohol: double (nullable = true)\n",
      " |-- notes: string (nullable = true)\n",
      " |-- Shop Link: string (nullable = true)\n",
      "\n"
     ]
    }
   ],
   "source": [
    "df.show(5)\n",
    "df.printSchema()"
   ]
  },
  {
   "cell_type": "markdown",
   "id": "a708a571-fa7a-4824-977e-3e146d41f73f",
   "metadata": {},
   "source": [
    "## GroupBy"
   ]
  },
  {
   "cell_type": "code",
   "execution_count": 14,
   "id": "18ef8e63-7570-4b73-a79c-a7dc9a14a65f",
   "metadata": {},
   "outputs": [
    {
     "name": "stdout",
     "output_type": "stream",
     "text": [
      "+---------------+--------------+----------+-------------------+\n",
      "|       Rebsorte|sum(# Gekauft)|sum(Preis)|       sum(Alkohol)|\n",
      "+---------------+--------------+----------+-------------------+\n",
      "|       Viognier|             3|      13.5|              0.135|\n",
      "|     Chardonnay|             2|       8.9|              0.125|\n",
      "|       Zweigelt|             2|      6.99|               0.11|\n",
      "|Grüner Vetliner|             5|      17.1|              0.214|\n",
      "|      Lambrusco|            10|      17.8|0.20500000000000002|\n",
      "|    Muskateller|             9|      32.7|               0.27|\n",
      "|           null|             1|      14.9|              0.585|\n",
      "+---------------+--------------+----------+-------------------+\n",
      "\n"
     ]
    }
   ],
   "source": [
    "df.groupby('Rebsorte').sum().show()"
   ]
  },
  {
   "cell_type": "code",
   "execution_count": 15,
   "id": "fab5158a-f4b9-498e-b1c7-43324105543e",
   "metadata": {},
   "outputs": [
    {
     "name": "stdout",
     "output_type": "stream",
     "text": [
      "+---------------+--------------+----------+------------+\n",
      "|       Rebsorte|max(# Gekauft)|max(Preis)|max(Alkohol)|\n",
      "+---------------+--------------+----------+------------+\n",
      "|       Viognier|             3|      13.5|       0.135|\n",
      "|     Chardonnay|             2|       8.9|       0.125|\n",
      "|       Zweigelt|             2|      6.99|        0.11|\n",
      "|Grüner Vetliner|             3|       8.9|       0.125|\n",
      "|      Lambrusco|             9|       8.9|       0.115|\n",
      "|    Muskateller|             5|      12.9|        0.11|\n",
      "|           null|             1|      14.9|         0.2|\n",
      "+---------------+--------------+----------+------------+\n",
      "\n"
     ]
    }
   ],
   "source": [
    "df.groupby('Rebsorte').max().show()"
   ]
  },
  {
   "cell_type": "code",
   "execution_count": 16,
   "id": "5f09e4ba-33f3-4248-8d5a-58b11dcb21ef",
   "metadata": {},
   "outputs": [
    {
     "name": "stdout",
     "output_type": "stream",
     "text": [
      "+---------------+--------------+----------+-------------------+\n",
      "|       Rebsorte|avg(# Gekauft)|avg(Preis)|       avg(Alkohol)|\n",
      "+---------------+--------------+----------+-------------------+\n",
      "|       Viognier|           3.0|      13.5|              0.135|\n",
      "|     Chardonnay|           2.0|       8.9|              0.125|\n",
      "|       Zweigelt|           2.0|      6.99|               0.11|\n",
      "|Grüner Vetliner|           2.5|      8.55|              0.107|\n",
      "|      Lambrusco|           5.0|       8.9|0.10250000000000001|\n",
      "|    Muskateller|           3.0|      10.9|0.09000000000000001|\n",
      "|           null|           1.0|      14.9|0.19499999999999998|\n",
      "+---------------+--------------+----------+-------------------+\n",
      "\n"
     ]
    }
   ],
   "source": [
    "df.groupby('Rebsorte').avg().show()"
   ]
  },
  {
   "cell_type": "code",
   "execution_count": 18,
   "id": "df60922b-ed27-42da-9213-29e0966a0277",
   "metadata": {},
   "outputs": [
    {
     "name": "stdout",
     "output_type": "stream",
     "text": [
      "+---------------+-----+\n",
      "|       Rebsorte|count|\n",
      "+---------------+-----+\n",
      "|       Viognier|    1|\n",
      "|     Chardonnay|    1|\n",
      "|       Zweigelt|    1|\n",
      "|Grüner Vetliner|    2|\n",
      "|      Lambrusco|    2|\n",
      "|    Muskateller|    3|\n",
      "|           null|    5|\n",
      "+---------------+-----+\n",
      "\n"
     ]
    }
   ],
   "source": [
    "df.groupby('Rebsorte').count().show()"
   ]
  },
  {
   "cell_type": "code",
   "execution_count": 19,
   "id": "88979916-1493-41de-bbdc-09f125f634b7",
   "metadata": {},
   "outputs": [
    {
     "name": "stdout",
     "output_type": "stream",
     "text": [
      "+---------------+-----+\n",
      "|       Rebsorte|count|\n",
      "+---------------+-----+\n",
      "|       Viognier|    1|\n",
      "|     Chardonnay|    1|\n",
      "|       Zweigelt|    1|\n",
      "|Grüner Vetliner|    2|\n",
      "|      Lambrusco|    2|\n",
      "|    Muskateller|    3|\n",
      "|      Unbekannt|    5|\n",
      "+---------------+-----+\n",
      "\n"
     ]
    }
   ],
   "source": [
    "df.groupby('Rebsorte').count().na.fill('Unbekannt').show() # replace null with string missing"
   ]
  },
  {
   "cell_type": "code",
   "execution_count": null,
   "id": "08c476a0-3b6b-4b35-9eaf-3ac0f41c96c9",
   "metadata": {},
   "outputs": [],
   "source": []
  }
 ],
 "metadata": {
  "kernelspec": {
   "display_name": "Python 3 (ipykernel)",
   "language": "python",
   "name": "python3"
  },
  "language_info": {
   "codemirror_mode": {
    "name": "ipython",
    "version": 3
   },
   "file_extension": ".py",
   "mimetype": "text/x-python",
   "name": "python",
   "nbconvert_exporter": "python",
   "pygments_lexer": "ipython3",
   "version": "3.9.7"
  }
 },
 "nbformat": 4,
 "nbformat_minor": 5
}
