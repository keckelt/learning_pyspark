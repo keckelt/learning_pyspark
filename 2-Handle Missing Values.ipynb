{
 "cells": [
  {
   "cell_type": "code",
   "execution_count": 1,
   "id": "2fb3cb50-8f46-4e74-b562-37774ff24bb3",
   "metadata": {},
   "outputs": [],
   "source": [
    "from pyspark.sql import SparkSession"
   ]
  },
  {
   "cell_type": "code",
   "execution_count": 2,
   "id": "447989e9-4cd0-47fe-b5d7-3fbb8801eab7",
   "metadata": {},
   "outputs": [
    {
     "name": "stderr",
     "output_type": "stream",
     "text": [
      "WARNING: An illegal reflective access operation has occurred\n",
      "WARNING: Illegal reflective access by org.apache.spark.unsafe.Platform (file:/usr/local/spark-3.2.0-bin-hadoop3.2/jars/spark-unsafe_2.12-3.2.0.jar) to constructor java.nio.DirectByteBuffer(long,int)\n",
      "WARNING: Please consider reporting this to the maintainers of org.apache.spark.unsafe.Platform\n",
      "WARNING: Use --illegal-access=warn to enable warnings of further illegal reflective access operations\n",
      "WARNING: All illegal access operations will be denied in a future release\n",
      "Using Spark's default log4j profile: org/apache/spark/log4j-defaults.properties\n",
      "Setting default log level to \"WARN\".\n",
      "To adjust logging level use sc.setLogLevel(newLevel). For SparkR, use setLogLevel(newLevel).\n",
      "21/11/22 11:53:04 WARN NativeCodeLoader: Unable to load native-hadoop library for your platform... using builtin-java classes where applicable\n",
      "21/11/22 11:53:05 WARN Utils: Service 'SparkUI' could not bind on port 4040. Attempting port 4041.\n",
      "21/11/22 11:53:05 WARN Utils: Service 'SparkUI' could not bind on port 4041. Attempting port 4042.\n"
     ]
    }
   ],
   "source": [
    "spark=SparkSession.builder.appName('MissingVals').getOrCreate()"
   ]
  },
  {
   "cell_type": "code",
   "execution_count": 4,
   "id": "cc3ffad6-a1ab-4991-a32d-4192929b1e1d",
   "metadata": {},
   "outputs": [],
   "source": [
    "df=spark.read.csv('wine.csv',header=True,inferSchema=True) #inferSchema --> age type turns from string to integer"
   ]
  },
  {
   "cell_type": "code",
   "execution_count": 6,
   "id": "17bbd861-3e8d-4e64-9533-3135e4e9dbd3",
   "metadata": {},
   "outputs": [
    {
     "name": "stdout",
     "output_type": "stream",
     "text": [
      "+---------------+--------------------+--------+-----+---------------+-----+---------+------+----------+--------------+-------+-----+--------------------+\n",
      "|Winzer/Erzeuger|                Name|     Typ|Farbe|       Rebsorte|  Bio|# Gekauft| Preis|  Herkunft|        Region|Alkohol|notes|           Shop Link|\n",
      "+---------------+--------------------+--------+-----+---------------+-----+---------+------+----------+--------------+-------+-----+--------------------+\n",
      "|        Fiorini|Becco rosso Lambr...|Perlwein|  rot|      Lambrusco|false|        1|8,90 €|   Italien|Emilia Romagna| 11,50%| null|https://tuttovino...|\n",
      "|        Fiorini|Re Gusto Lambrusc...|Perlwein|  rot|      Lambrusco|false|        9|8,90 €|   Italien|Emilia Romagna|  9,00%| null|https://tuttovino...|\n",
      "|    Gschweicher|Grüner Veltliner ...|    Wein| weiß|Grüner Vetliner|false|        3|8,90 €|Österreich|   Weinviertel|  8,90%| null|https://tuttovino...|\n",
      "|Gruber Röschitz|  Gelber Muskateller|    Wein| weiß|    Muskateller| true|        5|9,40 €|Österreich|   Weinviertel| 11,00%| null|https://tuttovino...|\n",
      "|       Sandeman| Late Bottle Vintage|Portwein|  rot|           null|false|     null|  null|  Portugal|   Porto/Douro| 20,00%| null|https://www.sande...|\n",
      "+---------------+--------------------+--------+-----+---------------+-----+---------+------+----------+--------------+-------+-----+--------------------+\n",
      "only showing top 5 rows\n",
      "\n",
      "root\n",
      " |-- Winzer/Erzeuger: string (nullable = true)\n",
      " |-- Name: string (nullable = true)\n",
      " |-- Typ: string (nullable = true)\n",
      " |-- Farbe: string (nullable = true)\n",
      " |-- Rebsorte: string (nullable = true)\n",
      " |-- Bio: boolean (nullable = true)\n",
      " |-- # Gekauft: integer (nullable = true)\n",
      " |-- Preis: string (nullable = true)\n",
      " |-- Herkunft: string (nullable = true)\n",
      " |-- Region: string (nullable = true)\n",
      " |-- Alkohol: string (nullable = true)\n",
      " |-- notes: string (nullable = true)\n",
      " |-- Shop Link: string (nullable = true)\n",
      "\n"
     ]
    }
   ],
   "source": [
    "df.show(5)\n",
    "df.printSchema()"
   ]
  },
  {
   "cell_type": "code",
   "execution_count": 8,
   "id": "9d854de2-6eb5-4073-911f-2e3f04c89326",
   "metadata": {},
   "outputs": [
    {
     "name": "stdout",
     "output_type": "stream",
     "text": [
      "+-------+---------------+-------------+--------+-----+----------+------------------+-------+----------+-----------+-------+-------+--------------------+\n",
      "|summary|Winzer/Erzeuger|         Name|     Typ|Farbe|  Rebsorte|         # Gekauft|  Preis|  Herkunft|     Region|Alkohol|  notes|           Shop Link|\n",
      "+-------+---------------+-------------+--------+-----+----------+------------------+-------+----------+-----------+-------+-------+--------------------+\n",
      "|  count|             15|           15|      11|   13|        10|                11|     11|        13|         13|     13|      1|                  13|\n",
      "|   mean|           null|         null|    null| null|      null| 2.909090909090909|   null|      null|       null|   null|   null|                null|\n",
      "| stddev|           null|         null|    null| null|      null|2.3432688900143512|   null|      null|       null|   null|   null|                null|\n",
      "|    min|        Barollo|Bardolino rot|Perlwein| rosé|Chardonnay|                 1|10,40 €|   Italien| Burgenland| 11,00%|muschel|https://tuttovino...|\n",
      "|    max|        Tremmel|  barollo rot|    Wein| weiß|  Zweigelt|                 9| 9,40 €|Österreich|Weinviertel|  9,00%|muschel|https://www.sande...|\n",
      "+-------+---------------+-------------+--------+-----+----------+------------------+-------+----------+-----------+-------+-------+--------------------+\n",
      "\n"
     ]
    }
   ],
   "source": [
    "df.describe().show()"
   ]
  },
  {
   "cell_type": "markdown",
   "id": "7bb45ffb-c633-4db7-bf7e-c5589b53b5a8",
   "metadata": {},
   "source": [
    "## Drop Missing Values\n",
    "### Drop Columns"
   ]
  },
  {
   "cell_type": "code",
   "execution_count": 9,
   "id": "8d0bf476-dea1-45cd-bae0-4308d3b5fba9",
   "metadata": {},
   "outputs": [
    {
     "name": "stdout",
     "output_type": "stream",
     "text": [
      "+---------------+----+---+-----+--------+---+---------+-----+--------+------+-------+-----+---------+\n",
      "|Winzer/Erzeuger|Name|Typ|Farbe|Rebsorte|Bio|# Gekauft|Preis|Herkunft|Region|Alkohol|notes|Shop Link|\n",
      "+---------------+----+---+-----+--------+---+---------+-----+--------+------+-------+-----+---------+\n",
      "+---------------+----+---+-----+--------+---+---------+-----+--------+------+-------+-----+---------+\n",
      "\n"
     ]
    }
   ],
   "source": [
    "df.na.drop().show()"
   ]
  },
  {
   "cell_type": "code",
   "execution_count": 10,
   "id": "f8a22225-39d1-4697-bafb-acc3aaee9d55",
   "metadata": {},
   "outputs": [
    {
     "name": "stdout",
     "output_type": "stream",
     "text": [
      "+---------------+--------------------+--------+-----+---------------+-----+---------+-------+----------+--------------+-------+--------------------+\n",
      "|Winzer/Erzeuger|                Name|     Typ|Farbe|       Rebsorte|  Bio|# Gekauft|  Preis|  Herkunft|        Region|Alkohol|           Shop Link|\n",
      "+---------------+--------------------+--------+-----+---------------+-----+---------+-------+----------+--------------+-------+--------------------+\n",
      "|        Fiorini|Becco rosso Lambr...|Perlwein|  rot|      Lambrusco|false|        1| 8,90 €|   Italien|Emilia Romagna| 11,50%|https://tuttovino...|\n",
      "|        Fiorini|Re Gusto Lambrusc...|Perlwein|  rot|      Lambrusco|false|        9| 8,90 €|   Italien|Emilia Romagna|  9,00%|https://tuttovino...|\n",
      "|    Gschweicher|Grüner Veltliner ...|    Wein| weiß|Grüner Vetliner|false|        3| 8,90 €|Österreich|   Weinviertel|  8,90%|https://tuttovino...|\n",
      "|Gruber Röschitz|  Gelber Muskateller|    Wein| weiß|    Muskateller| true|        5| 9,40 €|Österreich|   Weinviertel| 11,00%|https://tuttovino...|\n",
      "|  Doglia Gianni|      Moscato d’Asti|    Wein| weiß|    Muskateller|false|        1|12,90 €|   Italien|       Piemont|  5,00%|https://tuttovino...|\n",
      "|        Tremmel|         Frizzante M|Perlwein| weiß|    Muskateller|false|        3|10,40 €|Österreich|    Burgenland| 11,00%|https://tuttovino...|\n",
      "|           Polz|      Rosé Frizzante|Perlwein| rosé|       Zweigelt|false|        2| 6,99 €|Österreich| Südsteiermark| 11,00%|https://www.inter...|\n",
      "|    Gschweicher|Frizzante Grüner ...|Perlwein| weiß|Grüner Vetliner|false|        2| 8,20 €|Österreich|   Weinviertel| 12,50%|https://tuttovino...|\n",
      "+---------------+--------------------+--------+-----+---------------+-----+---------+-------+----------+--------------+-------+--------------------+\n",
      "\n"
     ]
    }
   ],
   "source": [
    "df.drop('notes').na.drop().show()"
   ]
  },
  {
   "cell_type": "markdown",
   "id": "8476501b-781b-448b-83f7-028e06c25bd1",
   "metadata": {},
   "source": [
    "### Drop Rows"
   ]
  },
  {
   "cell_type": "code",
   "execution_count": 23,
   "id": "75f3a455-4621-4fa3-b860-f9d3dfb8e953",
   "metadata": {},
   "outputs": [
    {
     "name": "stdout",
     "output_type": "stream",
     "text": [
      "+---------------+--------------------+--------+-----+---------------+-----+---------+-------+----------+--------------+-------+-------+--------------------+\n",
      "|Winzer/Erzeuger|                Name|     Typ|Farbe|       Rebsorte|  Bio|# Gekauft|  Preis|  Herkunft|        Region|Alkohol|  notes|           Shop Link|\n",
      "+---------------+--------------------+--------+-----+---------------+-----+---------+-------+----------+--------------+-------+-------+--------------------+\n",
      "|        Fiorini|Becco rosso Lambr...|Perlwein|  rot|      Lambrusco|false|        1| 8,90 €|   Italien|Emilia Romagna| 11,50%|   null|https://tuttovino...|\n",
      "|        Fiorini|Re Gusto Lambrusc...|Perlwein|  rot|      Lambrusco|false|        9| 8,90 €|   Italien|Emilia Romagna|  9,00%|   null|https://tuttovino...|\n",
      "|    Gschweicher|Grüner Veltliner ...|    Wein| weiß|Grüner Vetliner|false|        3| 8,90 €|Österreich|   Weinviertel|  8,90%|   null|https://tuttovino...|\n",
      "|Gruber Röschitz|  Gelber Muskateller|    Wein| weiß|    Muskateller| true|        5| 9,40 €|Österreich|   Weinviertel| 11,00%|   null|https://tuttovino...|\n",
      "|       Sandeman| Late Bottle Vintage|Portwein|  rot|           null|false|     null|   null|  Portugal|   Porto/Douro| 20,00%|   null|https://www.sande...|\n",
      "|       Sandeman|    Fine White Porto|Portwein| weiß|           null|false|     null|   null|  Portugal|   Porto/Douro| 19,50%|   null|https://www.sande...|\n",
      "|  Graham's Port|Extra Dry White Port|Portwein| weiß|           null|false|        1|14,90 €|  Portugal|   Porto/Douro| 19,00%|   null|https://tuttovino...|\n",
      "|  Doglia Gianni|      Moscato d’Asti|    Wein| weiß|    Muskateller|false|        1|12,90 €|   Italien|       Piemont|  5,00%|   null|https://tuttovino...|\n",
      "|        Barollo|Frater Bianco Cha...|    null| weiß|     Chardonnay|false|        2| 8,90 €|   Italien|      Venetien| 12,50%|   null|https://tuttovino...|\n",
      "|Tenuta Casteani|Santasso Viognier...|    null| weiß|       Viognier|false|        3|13,50 €|   Italien|       Toskana| 13,50%|muschel|https://tuttovino...|\n",
      "|        Tremmel|         Frizzante M|Perlwein| weiß|    Muskateller|false|        3|10,40 €|Österreich|    Burgenland| 11,00%|   null|https://tuttovino...|\n",
      "|           Polz|      Rosé Frizzante|Perlwein| rosé|       Zweigelt|false|        2| 6,99 €|Österreich| Südsteiermark| 11,00%|   null|https://www.inter...|\n",
      "|    Gschweicher|Frizzante Grüner ...|Perlwein| weiß|Grüner Vetliner|false|        2| 8,20 €|Österreich|   Weinviertel| 12,50%|   null|https://tuttovino...|\n",
      "|        Barollo|         barollo rot|    null| null|           null|false|     null|   null|      null|          null|   null|   null|                null|\n",
      "|Tenuta La Presa|       Bardolino rot|    null| null|           null|false|     null|   null|      null|          null|   null|   null|                null|\n",
      "+---------------+--------------------+--------+-----+---------------+-----+---------+-------+----------+--------------+-------+-------+--------------------+\n",
      "\n"
     ]
    }
   ],
   "source": [
    "df.na.drop(how='any', thresh=3).show() # keep if there at least 3 non-null values"
   ]
  },
  {
   "cell_type": "code",
   "execution_count": 25,
   "id": "177a099b-0547-4160-b470-429cb31964b6",
   "metadata": {},
   "outputs": [
    {
     "name": "stdout",
     "output_type": "stream",
     "text": [
      "+---------------+--------------------+--------+-----+---------------+-----+---------+-------+----------+--------------+-------+-----+--------------------+\n",
      "|Winzer/Erzeuger|                Name|     Typ|Farbe|       Rebsorte|  Bio|# Gekauft|  Preis|  Herkunft|        Region|Alkohol|notes|           Shop Link|\n",
      "+---------------+--------------------+--------+-----+---------------+-----+---------+-------+----------+--------------+-------+-----+--------------------+\n",
      "|        Fiorini|Becco rosso Lambr...|Perlwein|  rot|      Lambrusco|false|        1| 8,90 €|   Italien|Emilia Romagna| 11,50%| null|https://tuttovino...|\n",
      "|        Fiorini|Re Gusto Lambrusc...|Perlwein|  rot|      Lambrusco|false|        9| 8,90 €|   Italien|Emilia Romagna|  9,00%| null|https://tuttovino...|\n",
      "|    Gschweicher|Grüner Veltliner ...|    Wein| weiß|Grüner Vetliner|false|        3| 8,90 €|Österreich|   Weinviertel|  8,90%| null|https://tuttovino...|\n",
      "|Gruber Röschitz|  Gelber Muskateller|    Wein| weiß|    Muskateller| true|        5| 9,40 €|Österreich|   Weinviertel| 11,00%| null|https://tuttovino...|\n",
      "|       Sandeman| Late Bottle Vintage|Portwein|  rot|           null|false|     null|   null|  Portugal|   Porto/Douro| 20,00%| null|https://www.sande...|\n",
      "|       Sandeman|    Fine White Porto|Portwein| weiß|           null|false|     null|   null|  Portugal|   Porto/Douro| 19,50%| null|https://www.sande...|\n",
      "|  Graham's Port|Extra Dry White Port|Portwein| weiß|           null|false|        1|14,90 €|  Portugal|   Porto/Douro| 19,00%| null|https://tuttovino...|\n",
      "|  Doglia Gianni|      Moscato d’Asti|    Wein| weiß|    Muskateller|false|        1|12,90 €|   Italien|       Piemont|  5,00%| null|https://tuttovino...|\n",
      "|        Tremmel|         Frizzante M|Perlwein| weiß|    Muskateller|false|        3|10,40 €|Österreich|    Burgenland| 11,00%| null|https://tuttovino...|\n",
      "|           Polz|      Rosé Frizzante|Perlwein| rosé|       Zweigelt|false|        2| 6,99 €|Österreich| Südsteiermark| 11,00%| null|https://www.inter...|\n",
      "|    Gschweicher|Frizzante Grüner ...|Perlwein| weiß|Grüner Vetliner|false|        2| 8,20 €|Österreich|   Weinviertel| 12,50%| null|https://tuttovino...|\n",
      "+---------------+--------------------+--------+-----+---------------+-----+---------+-------+----------+--------------+-------+-----+--------------------+\n",
      "\n"
     ]
    }
   ],
   "source": [
    "df.na.drop(how='any', subset=['Typ']).show() # drop all rows where no 'Typ' is present"
   ]
  },
  {
   "cell_type": "markdown",
   "id": "9c4b7bfe-affc-45f8-a9f8-43c01fb1691a",
   "metadata": {},
   "source": [
    "## Fill missing values"
   ]
  },
  {
   "cell_type": "code",
   "execution_count": 26,
   "id": "30598cbf-93fb-48b7-9206-0666429c758e",
   "metadata": {},
   "outputs": [
    {
     "name": "stdout",
     "output_type": "stream",
     "text": [
      "+---------------+--------------------+--------+-------+---------------+-----+---------+-------+----------+--------------+-------+-------+--------------------+\n",
      "|Winzer/Erzeuger|                Name|     Typ|  Farbe|       Rebsorte|  Bio|# Gekauft|  Preis|  Herkunft|        Region|Alkohol|  notes|           Shop Link|\n",
      "+---------------+--------------------+--------+-------+---------------+-----+---------+-------+----------+--------------+-------+-------+--------------------+\n",
      "|        Fiorini|Becco rosso Lambr...|Perlwein|    rot|      Lambrusco|false|        1| 8,90 €|   Italien|Emilia Romagna| 11,50%|missing|https://tuttovino...|\n",
      "|        Fiorini|Re Gusto Lambrusc...|Perlwein|    rot|      Lambrusco|false|        9| 8,90 €|   Italien|Emilia Romagna|  9,00%|missing|https://tuttovino...|\n",
      "|    Gschweicher|Grüner Veltliner ...|    Wein|   weiß|Grüner Vetliner|false|        3| 8,90 €|Österreich|   Weinviertel|  8,90%|missing|https://tuttovino...|\n",
      "|Gruber Röschitz|  Gelber Muskateller|    Wein|   weiß|    Muskateller| true|        5| 9,40 €|Österreich|   Weinviertel| 11,00%|missing|https://tuttovino...|\n",
      "|       Sandeman| Late Bottle Vintage|Portwein|    rot|        missing|false|     null|missing|  Portugal|   Porto/Douro| 20,00%|missing|https://www.sande...|\n",
      "|       Sandeman|    Fine White Porto|Portwein|   weiß|        missing|false|     null|missing|  Portugal|   Porto/Douro| 19,50%|missing|https://www.sande...|\n",
      "|  Graham's Port|Extra Dry White Port|Portwein|   weiß|        missing|false|        1|14,90 €|  Portugal|   Porto/Douro| 19,00%|missing|https://tuttovino...|\n",
      "|  Doglia Gianni|      Moscato d’Asti|    Wein|   weiß|    Muskateller|false|        1|12,90 €|   Italien|       Piemont|  5,00%|missing|https://tuttovino...|\n",
      "|        Barollo|Frater Bianco Cha...| missing|   weiß|     Chardonnay|false|        2| 8,90 €|   Italien|      Venetien| 12,50%|missing|https://tuttovino...|\n",
      "|Tenuta Casteani|Santasso Viognier...| missing|   weiß|       Viognier|false|        3|13,50 €|   Italien|       Toskana| 13,50%|muschel|https://tuttovino...|\n",
      "|        Tremmel|         Frizzante M|Perlwein|   weiß|    Muskateller|false|        3|10,40 €|Österreich|    Burgenland| 11,00%|missing|https://tuttovino...|\n",
      "|           Polz|      Rosé Frizzante|Perlwein|   rosé|       Zweigelt|false|        2| 6,99 €|Österreich| Südsteiermark| 11,00%|missing|https://www.inter...|\n",
      "|    Gschweicher|Frizzante Grüner ...|Perlwein|   weiß|Grüner Vetliner|false|        2| 8,20 €|Österreich|   Weinviertel| 12,50%|missing|https://tuttovino...|\n",
      "|        Barollo|         barollo rot| missing|missing|        missing|false|     null|missing|   missing|       missing|missing|missing|             missing|\n",
      "|Tenuta La Presa|       Bardolino rot| missing|missing|        missing|false|     null|missing|   missing|       missing|missing|missing|             missing|\n",
      "+---------------+--------------------+--------+-------+---------------+-----+---------+-------+----------+--------------+-------+-------+--------------------+\n",
      "\n"
     ]
    }
   ],
   "source": [
    "df.na.fill('missing').show() # replace null with string missing"
   ]
  },
  {
   "cell_type": "code",
   "execution_count": 31,
   "id": "637b16ce-f7e7-4240-8e7c-59a3ef792545",
   "metadata": {},
   "outputs": [],
   "source": [
    "from pyspark.ml.feature import Imputer\n",
    "\n",
    "cols = ['# Gekauft']\n",
    "imputer = Imputer(\n",
    "    inputCols=cols, \n",
    "    outputCols=[\"{}_imputed\".format(c) for c in cols]\n",
    "    ).setStrategy(\"median\")\n",
    "\n"
   ]
  },
  {
   "cell_type": "code",
   "execution_count": 32,
   "id": "a1e3d84a-9a71-432d-9c8c-27187286eec7",
   "metadata": {},
   "outputs": [
    {
     "name": "stdout",
     "output_type": "stream",
     "text": [
      "+---------------+--------------------+--------+-----+---------------+-----+---------+-------+----------+--------------+-------+-------+--------------------+-----------------+\n",
      "|Winzer/Erzeuger|                Name|     Typ|Farbe|       Rebsorte|  Bio|# Gekauft|  Preis|  Herkunft|        Region|Alkohol|  notes|           Shop Link|# Gekauft_imputed|\n",
      "+---------------+--------------------+--------+-----+---------------+-----+---------+-------+----------+--------------+-------+-------+--------------------+-----------------+\n",
      "|        Fiorini|Becco rosso Lambr...|Perlwein|  rot|      Lambrusco|false|        1| 8,90 €|   Italien|Emilia Romagna| 11,50%|   null|https://tuttovino...|                1|\n",
      "|        Fiorini|Re Gusto Lambrusc...|Perlwein|  rot|      Lambrusco|false|        9| 8,90 €|   Italien|Emilia Romagna|  9,00%|   null|https://tuttovino...|                9|\n",
      "|    Gschweicher|Grüner Veltliner ...|    Wein| weiß|Grüner Vetliner|false|        3| 8,90 €|Österreich|   Weinviertel|  8,90%|   null|https://tuttovino...|                3|\n",
      "|Gruber Röschitz|  Gelber Muskateller|    Wein| weiß|    Muskateller| true|        5| 9,40 €|Österreich|   Weinviertel| 11,00%|   null|https://tuttovino...|                5|\n",
      "|       Sandeman| Late Bottle Vintage|Portwein|  rot|           null|false|     null|   null|  Portugal|   Porto/Douro| 20,00%|   null|https://www.sande...|                2|\n",
      "|       Sandeman|    Fine White Porto|Portwein| weiß|           null|false|     null|   null|  Portugal|   Porto/Douro| 19,50%|   null|https://www.sande...|                2|\n",
      "|  Graham's Port|Extra Dry White Port|Portwein| weiß|           null|false|        1|14,90 €|  Portugal|   Porto/Douro| 19,00%|   null|https://tuttovino...|                1|\n",
      "|  Doglia Gianni|      Moscato d’Asti|    Wein| weiß|    Muskateller|false|        1|12,90 €|   Italien|       Piemont|  5,00%|   null|https://tuttovino...|                1|\n",
      "|        Barollo|Frater Bianco Cha...|    null| weiß|     Chardonnay|false|        2| 8,90 €|   Italien|      Venetien| 12,50%|   null|https://tuttovino...|                2|\n",
      "|Tenuta Casteani|Santasso Viognier...|    null| weiß|       Viognier|false|        3|13,50 €|   Italien|       Toskana| 13,50%|muschel|https://tuttovino...|                3|\n",
      "|        Tremmel|         Frizzante M|Perlwein| weiß|    Muskateller|false|        3|10,40 €|Österreich|    Burgenland| 11,00%|   null|https://tuttovino...|                3|\n",
      "|           Polz|      Rosé Frizzante|Perlwein| rosé|       Zweigelt|false|        2| 6,99 €|Österreich| Südsteiermark| 11,00%|   null|https://www.inter...|                2|\n",
      "|    Gschweicher|Frizzante Grüner ...|Perlwein| weiß|Grüner Vetliner|false|        2| 8,20 €|Österreich|   Weinviertel| 12,50%|   null|https://tuttovino...|                2|\n",
      "|        Barollo|         barollo rot|    null| null|           null|false|     null|   null|      null|          null|   null|   null|                null|                2|\n",
      "|Tenuta La Presa|       Bardolino rot|    null| null|           null|false|     null|   null|      null|          null|   null|   null|                null|                2|\n",
      "+---------------+--------------------+--------+-----+---------------+-----+---------+-------+----------+--------------+-------+-------+--------------------+-----------------+\n",
      "\n"
     ]
    }
   ],
   "source": [
    "imputer.fit(df_pyspark).transform(df_pyspark).show()"
   ]
  }
 ],
 "metadata": {
  "kernelspec": {
   "display_name": "Python 3 (ipykernel)",
   "language": "python",
   "name": "python3"
  },
  "language_info": {
   "codemirror_mode": {
    "name": "ipython",
    "version": 3
   },
   "file_extension": ".py",
   "mimetype": "text/x-python",
   "name": "python",
   "nbconvert_exporter": "python",
   "pygments_lexer": "ipython3",
   "version": "3.9.7"
  }
 },
 "nbformat": 4,
 "nbformat_minor": 5
}
