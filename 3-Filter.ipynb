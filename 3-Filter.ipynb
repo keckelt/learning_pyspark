{
 "cells": [
  {
   "cell_type": "code",
   "execution_count": 1,
   "id": "71ef7298-411c-4293-bc0b-b9d84197d691",
   "metadata": {},
   "outputs": [],
   "source": [
    "from pyspark.sql import SparkSession"
   ]
  },
  {
   "cell_type": "code",
   "execution_count": 2,
   "id": "cdea7374-acb9-465b-883a-31affed0bc75",
   "metadata": {},
   "outputs": [
    {
     "name": "stderr",
     "output_type": "stream",
     "text": [
      "WARNING: An illegal reflective access operation has occurred\n",
      "WARNING: Illegal reflective access by org.apache.spark.unsafe.Platform (file:/usr/local/spark-3.2.0-bin-hadoop3.2/jars/spark-unsafe_2.12-3.2.0.jar) to constructor java.nio.DirectByteBuffer(long,int)\n",
      "WARNING: Please consider reporting this to the maintainers of org.apache.spark.unsafe.Platform\n",
      "WARNING: Use --illegal-access=warn to enable warnings of further illegal reflective access operations\n",
      "WARNING: All illegal access operations will be denied in a future release\n",
      "Using Spark's default log4j profile: org/apache/spark/log4j-defaults.properties\n",
      "Setting default log level to \"WARN\".\n",
      "To adjust logging level use sc.setLogLevel(newLevel). For SparkR, use setLogLevel(newLevel).\n",
      "21/11/22 12:38:38 WARN NativeCodeLoader: Unable to load native-hadoop library for your platform... using builtin-java classes where applicable\n",
      "21/11/22 12:38:39 WARN Utils: Service 'SparkUI' could not bind on port 4040. Attempting port 4041.\n",
      "21/11/22 12:38:39 WARN Utils: Service 'SparkUI' could not bind on port 4041. Attempting port 4042.\n",
      "21/11/22 12:38:39 WARN Utils: Service 'SparkUI' could not bind on port 4042. Attempting port 4043.\n"
     ]
    }
   ],
   "source": [
    "spark=SparkSession.builder.appName('Filter').getOrCreate()"
   ]
  },
  {
   "cell_type": "code",
   "execution_count": 3,
   "id": "88887b28-3f49-48e3-92c2-f7a7b3a9270b",
   "metadata": {},
   "outputs": [],
   "source": [
    "df=spark.read.csv('wine.csv',header=True,inferSchema=True) #inferSchema --> age type turns from string to integer"
   ]
  },
  {
   "cell_type": "code",
   "execution_count": 4,
   "id": "3e74b839-899e-44fc-8260-eeb32f468591",
   "metadata": {},
   "outputs": [
    {
     "name": "stdout",
     "output_type": "stream",
     "text": [
      "+---------------+--------------------+--------+-----+---------------+-----+---------+------+----------+--------------+-------+-----+--------------------+\n",
      "|Winzer/Erzeuger|                Name|     Typ|Farbe|       Rebsorte|  Bio|# Gekauft| Preis|  Herkunft|        Region|Alkohol|notes|           Shop Link|\n",
      "+---------------+--------------------+--------+-----+---------------+-----+---------+------+----------+--------------+-------+-----+--------------------+\n",
      "|        Fiorini|Becco rosso Lambr...|Perlwein|  rot|      Lambrusco|false|        1|8,90 €|   Italien|Emilia Romagna| 11,50%| null|https://tuttovino...|\n",
      "|        Fiorini|Re Gusto Lambrusc...|Perlwein|  rot|      Lambrusco|false|        9|8,90 €|   Italien|Emilia Romagna|  9,00%| null|https://tuttovino...|\n",
      "|    Gschweicher|Grüner Veltliner ...|    Wein| weiß|Grüner Vetliner|false|        3|8,90 €|Österreich|   Weinviertel|  8,90%| null|https://tuttovino...|\n",
      "|Gruber Röschitz|  Gelber Muskateller|    Wein| weiß|    Muskateller| true|        5|9,40 €|Österreich|   Weinviertel| 11,00%| null|https://tuttovino...|\n",
      "|       Sandeman| Late Bottle Vintage|Portwein|  rot|           null|false|     null|  null|  Portugal|   Porto/Douro| 20,00%| null|https://www.sande...|\n",
      "+---------------+--------------------+--------+-----+---------------+-----+---------+------+----------+--------------+-------+-----+--------------------+\n",
      "only showing top 5 rows\n",
      "\n",
      "root\n",
      " |-- Winzer/Erzeuger: string (nullable = true)\n",
      " |-- Name: string (nullable = true)\n",
      " |-- Typ: string (nullable = true)\n",
      " |-- Farbe: string (nullable = true)\n",
      " |-- Rebsorte: string (nullable = true)\n",
      " |-- Bio: boolean (nullable = true)\n",
      " |-- # Gekauft: integer (nullable = true)\n",
      " |-- Preis: string (nullable = true)\n",
      " |-- Herkunft: string (nullable = true)\n",
      " |-- Region: string (nullable = true)\n",
      " |-- Alkohol: string (nullable = true)\n",
      " |-- notes: string (nullable = true)\n",
      " |-- Shop Link: string (nullable = true)\n",
      "\n"
     ]
    }
   ],
   "source": [
    "df.show(5)\n",
    "df.printSchema()"
   ]
  },
  {
   "cell_type": "markdown",
   "id": "953d5db1-7d3c-4c00-8be4-669bd3549200",
   "metadata": {},
   "source": [
    "## Filter Ops"
   ]
  },
  {
   "cell_type": "code",
   "execution_count": 8,
   "id": "ea977222-5083-44c1-8354-24496e97b88a",
   "metadata": {},
   "outputs": [
    {
     "name": "stdout",
     "output_type": "stream",
     "text": [
      "+---------------+------------------+----+-----+-----------+----+---------+------+----------+-----------+-------+-----+--------------------+\n",
      "|Winzer/Erzeuger|              Name| Typ|Farbe|   Rebsorte| Bio|# Gekauft| Preis|  Herkunft|     Region|Alkohol|notes|           Shop Link|\n",
      "+---------------+------------------+----+-----+-----------+----+---------+------+----------+-----------+-------+-----+--------------------+\n",
      "|Gruber Röschitz|Gelber Muskateller|Wein| weiß|Muskateller|true|        5|9,40 €|Österreich|Weinviertel| 11,00%| null|https://tuttovino...|\n",
      "+---------------+------------------+----+-----+-----------+----+---------+------+----------+-----------+-------+-----+--------------------+\n",
      "\n"
     ]
    }
   ],
   "source": [
    "# Find the organic wines  in the dataset\n",
    "df.filter(\"Bio=True\").show()"
   ]
  },
  {
   "cell_type": "code",
   "execution_count": 16,
   "id": "6bae1622-2658-4af6-a8e6-c84433c5a4ba",
   "metadata": {},
   "outputs": [
    {
     "name": "stdout",
     "output_type": "stream",
     "text": [
      "+---------------+--------------------+--------+-----+-----------+-----+---------+------+----------+--------------+-------+-----+--------------------+\n",
      "|Winzer/Erzeuger|                Name|     Typ|Farbe|   Rebsorte|  Bio|# Gekauft| Preis|  Herkunft|        Region|Alkohol|notes|           Shop Link|\n",
      "+---------------+--------------------+--------+-----+-----------+-----+---------+------+----------+--------------+-------+-----+--------------------+\n",
      "|        Fiorini|Re Gusto Lambrusc...|Perlwein|  rot|  Lambrusco|false|        9|8,90 €|   Italien|Emilia Romagna|  9,00%| null|https://tuttovino...|\n",
      "|Gruber Röschitz|  Gelber Muskateller|    Wein| weiß|Muskateller| true|        5|9,40 €|Österreich|   Weinviertel| 11,00%| null|https://tuttovino...|\n",
      "+---------------+--------------------+--------+-----+-----------+-----+---------+------+----------+--------------+-------+-----+--------------------+\n",
      "\n"
     ]
    }
   ],
   "source": [
    "# Find the most bought wines  in the dataset\n",
    "df.filter(\"`# Gekauft`>=5\").show()"
   ]
  },
  {
   "cell_type": "code",
   "execution_count": 20,
   "id": "6b83d6dc-47e9-43ee-945d-b5266a148b25",
   "metadata": {},
   "outputs": [
    {
     "name": "stdout",
     "output_type": "stream",
     "text": [
      "+---------------+--------------------+--------+-----+-----------+-----+---------+-------+--------+--------------+-------+-----+--------------------+\n",
      "|Winzer/Erzeuger|                Name|     Typ|Farbe|   Rebsorte|  Bio|# Gekauft|  Preis|Herkunft|        Region|Alkohol|notes|           Shop Link|\n",
      "+---------------+--------------------+--------+-----+-----------+-----+---------+-------+--------+--------------+-------+-----+--------------------+\n",
      "|        Fiorini|Becco rosso Lambr...|Perlwein|  rot|  Lambrusco|false|        1| 8,90 €| Italien|Emilia Romagna| 11,50%| null|https://tuttovino...|\n",
      "|  Graham's Port|Extra Dry White Port|Portwein| weiß|       null|false|        1|14,90 €|Portugal|   Porto/Douro| 19,00%| null|https://tuttovino...|\n",
      "|  Doglia Gianni|      Moscato d’Asti|    Wein| weiß|Muskateller|false|        1|12,90 €| Italien|       Piemont|  5,00%| null|https://tuttovino...|\n",
      "+---------------+--------------------+--------+-----+-----------+-----+---------+-------+--------+--------------+-------+-----+--------------------+\n",
      "\n"
     ]
    }
   ],
   "source": [
    "df.filter(df['# Gekauft']==1).show() # alternative"
   ]
  },
  {
   "cell_type": "code",
   "execution_count": 26,
   "id": "da7c9eff-1fac-4176-b42b-6af28bef2f1f",
   "metadata": {},
   "outputs": [
    {
     "name": "stdout",
     "output_type": "stream",
     "text": [
      "+---------------+--------------------+--------+-----+-----------+-----+---------+-------+----------+-----------+-------+-----+--------------------+\n",
      "|Winzer/Erzeuger|                Name|     Typ|Farbe|   Rebsorte|  Bio|# Gekauft|  Preis|  Herkunft|     Region|Alkohol|notes|           Shop Link|\n",
      "+---------------+--------------------+--------+-----+-----------+-----+---------+-------+----------+-----------+-------+-----+--------------------+\n",
      "|Gruber Röschitz|  Gelber Muskateller|    Wein| weiß|Muskateller| true|        5| 9,40 €|Österreich|Weinviertel| 11,00%| null|https://tuttovino...|\n",
      "|  Doglia Gianni|      Moscato d’Asti|    Wein| weiß|Muskateller|false|        1|12,90 €|   Italien|    Piemont|  5,00%| null|https://tuttovino...|\n",
      "|        Barollo|Frater Bianco Cha...|    null| weiß| Chardonnay|false|        2| 8,90 €|   Italien|   Venetien| 12,50%| null|https://tuttovino...|\n",
      "|        Tremmel|         Frizzante M|Perlwein| weiß|Muskateller|false|        3|10,40 €|Österreich| Burgenland| 11,00%| null|https://tuttovino...|\n",
      "+---------------+--------------------+--------+-----+-----------+-----+---------+-------+----------+-----------+-------+-----+--------------------+\n",
      "\n"
     ]
    }
   ],
   "source": [
    "df.filter((df['Rebsorte']=='Muskateller') | \n",
    "          (df['Rebsorte']=='Chardonnay')).show()\n"
   ]
  },
  {
   "cell_type": "code",
   "execution_count": 29,
   "id": "09be886c-ef4a-4734-9ee2-fd35d4ea7a6d",
   "metadata": {},
   "outputs": [
    {
     "name": "stdout",
     "output_type": "stream",
     "text": [
      "+---------------+--------------------+--------+-----+---------------+-----+---------+-------+----------+--------------+-------+-----+--------------------+\n",
      "|Winzer/Erzeuger|                Name|     Typ|Farbe|       Rebsorte|  Bio|# Gekauft|  Preis|  Herkunft|        Region|Alkohol|notes|           Shop Link|\n",
      "+---------------+--------------------+--------+-----+---------------+-----+---------+-------+----------+--------------+-------+-----+--------------------+\n",
      "|        Fiorini|Becco rosso Lambr...|Perlwein|  rot|      Lambrusco|false|        1| 8,90 €|   Italien|Emilia Romagna| 11,50%| null|https://tuttovino...|\n",
      "|        Fiorini|Re Gusto Lambrusc...|Perlwein|  rot|      Lambrusco|false|        9| 8,90 €|   Italien|Emilia Romagna|  9,00%| null|https://tuttovino...|\n",
      "|       Sandeman| Late Bottle Vintage|Portwein|  rot|           null|false|     null|   null|  Portugal|   Porto/Douro| 20,00%| null|https://www.sande...|\n",
      "|       Sandeman|    Fine White Porto|Portwein| weiß|           null|false|     null|   null|  Portugal|   Porto/Douro| 19,50%| null|https://www.sande...|\n",
      "|  Graham's Port|Extra Dry White Port|Portwein| weiß|           null|false|        1|14,90 €|  Portugal|   Porto/Douro| 19,00%| null|https://tuttovino...|\n",
      "|        Tremmel|         Frizzante M|Perlwein| weiß|    Muskateller|false|        3|10,40 €|Österreich|    Burgenland| 11,00%| null|https://tuttovino...|\n",
      "|           Polz|      Rosé Frizzante|Perlwein| rosé|       Zweigelt|false|        2| 6,99 €|Österreich| Südsteiermark| 11,00%| null|https://www.inter...|\n",
      "|    Gschweicher|Frizzante Grüner ...|Perlwein| weiß|Grüner Vetliner|false|        2| 8,20 €|Österreich|   Weinviertel| 12,50%| null|https://tuttovino...|\n",
      "+---------------+--------------------+--------+-----+---------------+-----+---------+-------+----------+--------------+-------+-----+--------------------+\n",
      "\n"
     ]
    }
   ],
   "source": [
    "df.filter(~(df['Typ']=='Wein')).show()\n"
   ]
  }
 ],
 "metadata": {
  "kernelspec": {
   "display_name": "Python 3 (ipykernel)",
   "language": "python",
   "name": "python3"
  },
  "language_info": {
   "codemirror_mode": {
    "name": "ipython",
    "version": 3
   },
   "file_extension": ".py",
   "mimetype": "text/x-python",
   "name": "python",
   "nbconvert_exporter": "python",
   "pygments_lexer": "ipython3",
   "version": "3.9.7"
  }
 },
 "nbformat": 4,
 "nbformat_minor": 5
}
