{
 "cells": [
  {
   "cell_type": "code",
   "execution_count": 1,
   "id": "514744a6-b4b6-454f-9b64-27cb3df3afd6",
   "metadata": {},
   "outputs": [],
   "source": [
    "from pyspark.sql import SparkSession"
   ]
  },
  {
   "cell_type": "code",
   "execution_count": 2,
   "id": "83938da5-e316-41b3-986a-a3dd2fd2aa68",
   "metadata": {},
   "outputs": [
    {
     "name": "stderr",
     "output_type": "stream",
     "text": [
      "WARNING: An illegal reflective access operation has occurred\n",
      "WARNING: Illegal reflective access by org.apache.spark.unsafe.Platform (file:/usr/local/spark-3.2.0-bin-hadoop3.2/jars/spark-unsafe_2.12-3.2.0.jar) to constructor java.nio.DirectByteBuffer(long,int)\n",
      "WARNING: Please consider reporting this to the maintainers of org.apache.spark.unsafe.Platform\n",
      "WARNING: Use --illegal-access=warn to enable warnings of further illegal reflective access operations\n",
      "WARNING: All illegal access operations will be denied in a future release\n",
      "Using Spark's default log4j profile: org/apache/spark/log4j-defaults.properties\n",
      "Setting default log level to \"WARN\".\n",
      "To adjust logging level use sc.setLogLevel(newLevel). For SparkR, use setLogLevel(newLevel).\n",
      "21/11/22 11:20:51 WARN NativeCodeLoader: Unable to load native-hadoop library for your platform... using builtin-java classes where applicable\n",
      "21/11/22 11:20:52 WARN Utils: Service 'SparkUI' could not bind on port 4040. Attempting port 4041.\n"
     ]
    }
   ],
   "source": [
    "spark=SparkSession.builder.appName('Dataframe').getOrCreate()"
   ]
  },
  {
   "cell_type": "code",
   "execution_count": 3,
   "id": "9cc848bb-d1fe-4410-9518-618e2e336484",
   "metadata": {},
   "outputs": [
    {
     "data": {
      "text/html": [
       "\n",
       "            <div>\n",
       "                <p><b>SparkSession - in-memory</b></p>\n",
       "                \n",
       "        <div>\n",
       "            <p><b>SparkContext</b></p>\n",
       "\n",
       "            <p><a href=\"http://a3ec3422ff57:4041\">Spark UI</a></p>\n",
       "\n",
       "            <dl>\n",
       "              <dt>Version</dt>\n",
       "                <dd><code>v3.2.0</code></dd>\n",
       "              <dt>Master</dt>\n",
       "                <dd><code>local[*]</code></dd>\n",
       "              <dt>AppName</dt>\n",
       "                <dd><code>Dataframe</code></dd>\n",
       "            </dl>\n",
       "        </div>\n",
       "        \n",
       "            </div>\n",
       "        "
      ],
      "text/plain": [
       "<pyspark.sql.session.SparkSession at 0x7ff3830c4040>"
      ]
     },
     "execution_count": 3,
     "metadata": {},
     "output_type": "execute_result"
    }
   ],
   "source": [
    "spark"
   ]
  },
  {
   "cell_type": "markdown",
   "id": "72688c65-eb63-4c4e-81ee-b648fdd87871",
   "metadata": {},
   "source": [
    "##  Read and Check Datatypes"
   ]
  },
  {
   "cell_type": "code",
   "execution_count": 18,
   "id": "6402dddb-f9be-4be9-8196-48813195e825",
   "metadata": {},
   "outputs": [
    {
     "name": "stdout",
     "output_type": "stream",
     "text": [
      "+----------+---------+---+------+------+----------+--------------------+------------+--------------------+------------+----------+\n",
      "|first_name|last_name|age|gender|  race|death_date|             address|neighborhood|                type|   longitude|  latitude|\n",
      "+----------+---------+---+------+------+----------+--------------------+------------+--------------------+------------+----------+\n",
      "|  Cesar A.|  Aguilar| 18|  Male|Latino|1992-04-30|     2009 W. 6th St.|    Westlake|Officer-involved ...|-118.2739756|34.0592814|\n",
      "|    George|  Alvarez| 42|  Male|Latino|1992-05-01|Main & College st...|   Chinatown|    Not riot-related|-118.2340982|34.0626901|\n",
      "|    Wilson|  Alvarez| 40|  Male|Latino|1992-05-23| 3100 Rosecrans Ave.|   Hawthorne|            Homicide| -118.326816| 33.901662|\n",
      "|  Brian E.|   Andrew| 30|  Male| Black|1992-04-30|Rosecrans & Chest...|     Compton|Officer-involved ...|-118.2153903|33.9034569|\n",
      "|    Vivian|   Austin| 87|Female| Black|1992-05-03|    1600 W. 60th St.|Harvard Park|               Death| -118.304741| 33.985667|\n",
      "+----------+---------+---+------+------+----------+--------------------+------------+--------------------+------------+----------+\n",
      "only showing top 5 rows\n",
      "\n",
      "root\n",
      " |-- first_name: string (nullable = true)\n",
      " |-- last_name: string (nullable = true)\n",
      " |-- age: integer (nullable = true)\n",
      " |-- gender: string (nullable = true)\n",
      " |-- race: string (nullable = true)\n",
      " |-- death_date: string (nullable = true)\n",
      " |-- address: string (nullable = true)\n",
      " |-- neighborhood: string (nullable = true)\n",
      " |-- type: string (nullable = true)\n",
      " |-- longitude: double (nullable = true)\n",
      " |-- latitude: double (nullable = true)\n",
      "\n"
     ]
    }
   ],
   "source": [
    "## read the dataset\n",
    "#df_pyspark=spark.read.option('header','true').csv('test1.csv',inferSchema=True)\n",
    "df_pyspark=spark.read.csv('la-riots.csv',header=True,inferSchema=True) #inferSchema --> age type turns from string to integer\n",
    "df_pyspark.show(5)\n",
    "df_pyspark.printSchema()"
   ]
  },
  {
   "cell_type": "code",
   "execution_count": 24,
   "id": "41a9a21d-03b5-4d48-9e57-740a55edf9b3",
   "metadata": {},
   "outputs": [
    {
     "data": {
      "text/plain": [
       "[('first_name', 'string'),\n",
       " ('last_name', 'string'),\n",
       " ('age', 'int'),\n",
       " ('gender', 'string'),\n",
       " ('race', 'string'),\n",
       " ('death_date', 'string'),\n",
       " ('address', 'string'),\n",
       " ('neighborhood', 'string'),\n",
       " ('type', 'string'),\n",
       " ('longitude', 'double'),\n",
       " ('latitude', 'double')]"
      ]
     },
     "execution_count": 24,
     "metadata": {},
     "output_type": "execute_result"
    }
   ],
   "source": [
    "df_pyspark.dtypes"
   ]
  },
  {
   "cell_type": "markdown",
   "id": "317a51d3-126a-446b-be87-d5b42b12d954",
   "metadata": {},
   "source": [
    "## Selecting Columns"
   ]
  },
  {
   "cell_type": "code",
   "execution_count": 17,
   "id": "9839d9dc-256b-4dd7-bd2b-3c3a59bb4ef3",
   "metadata": {},
   "outputs": [
    {
     "name": "stdout",
     "output_type": "stream",
     "text": [
      "+---------+\n",
      "|last_name|\n",
      "+---------+\n",
      "|  Aguilar|\n",
      "|  Alvarez|\n",
      "|  Alvarez|\n",
      "|   Andrew|\n",
      "|   Austin|\n",
      "+---------+\n",
      "only showing top 5 rows\n",
      "\n"
     ]
    }
   ],
   "source": [
    "df_pyspark.select('last_name').show(5)"
   ]
  },
  {
   "cell_type": "code",
   "execution_count": 16,
   "id": "4f573829-685a-4565-9bcd-bd6f36b10af7",
   "metadata": {},
   "outputs": [
    {
     "name": "stdout",
     "output_type": "stream",
     "text": [
      "+----------+---------+\n",
      "|first_name|last_name|\n",
      "+----------+---------+\n",
      "|  Cesar A.|  Aguilar|\n",
      "|    George|  Alvarez|\n",
      "|    Wilson|  Alvarez|\n",
      "|  Brian E.|   Andrew|\n",
      "|    Vivian|   Austin|\n",
      "+----------+---------+\n",
      "only showing top 5 rows\n",
      "\n"
     ]
    }
   ],
   "source": [
    "df_pyspark.select(['first_name', 'last_name']).show(5)"
   ]
  },
  {
   "cell_type": "code",
   "execution_count": 20,
   "id": "56270a61-50a1-4a51-8968-0b1d11659cc4",
   "metadata": {},
   "outputs": [
    {
     "data": {
      "text/plain": [
       "Column<'first_name'>"
      ]
     },
     "execution_count": 20,
     "metadata": {},
     "output_type": "execute_result"
    }
   ],
   "source": [
    "df_pyspark['first_name']"
   ]
  },
  {
   "cell_type": "markdown",
   "id": "a376a77d-2732-4a08-b878-352e2350a125",
   "metadata": {},
   "source": [
    "## Describe DataFrame"
   ]
  },
  {
   "cell_type": "code",
   "execution_count": 22,
   "id": "fa293064-f187-4200-b085-09f90b3418d0",
   "metadata": {},
   "outputs": [
    {
     "name": "stdout",
     "output_type": "stream",
     "text": [
      "+-------+----------+---------+------------------+------+-----+----------+--------------------+------------+--------------------+-------------------+-------------------+\n",
      "|summary|first_name|last_name|               age|gender| race|death_date|             address|neighborhood|                type|          longitude|           latitude|\n",
      "+-------+----------+---------+------------------+------+-----+----------+--------------------+------------+--------------------+-------------------+-------------------+\n",
      "|  count|        63|       63|                62|    63|   63|        63|                  63|          63|                  63|                 63|                 63|\n",
      "|   mean|      null|     null| 32.37096774193548|  null| null|      null|                null|        null|                null|-118.27991025222222|   34.0267134315873|\n",
      "| stddev|      null|     null|14.253252572103964|  null| null|      null|                null|        null|                null|0.10519826121287769|0.09847129539812817|\n",
      "|    min|     Aaron|  Aguilar|                15|Female|Asian|1992-04-29|  1005 S. Fresno St.|    Altadena|               Death|       -118.4717452|         33.7898575|\n",
      "|    max|    Wilson| Williams|                87|  Male|White|1993-11-24|near North Los Ro...|    Westlake|Officer-involved ...|       -117.7306469|          34.287098|\n",
      "+-------+----------+---------+------------------+------+-----+----------+--------------------+------------+--------------------+-------------------+-------------------+\n",
      "\n"
     ]
    }
   ],
   "source": [
    "df_pyspark.describe().show()"
   ]
  },
  {
   "cell_type": "markdown",
   "id": "2f1107bb-9947-424c-bad7-db594a860df6",
   "metadata": {},
   "source": [
    "## Add/Drop Columns"
   ]
  },
  {
   "cell_type": "code",
   "execution_count": 27,
   "id": "5c66105b-6c48-4c6e-b23c-60d8c41a9a15",
   "metadata": {},
   "outputs": [],
   "source": [
    "df_pyspark=df_pyspark.withColumn('age_2',df_pyspark['age']+2)"
   ]
  },
  {
   "cell_type": "code",
   "execution_count": 28,
   "id": "39b12cfc-7ea5-4ccb-b0f1-9ff389fdddd7",
   "metadata": {},
   "outputs": [
    {
     "name": "stdout",
     "output_type": "stream",
     "text": [
      "+----------+---------+---+------+------+----------+--------------------+------------+--------------------+------------+----------+----+-----+\n",
      "|first_name|last_name|age|gender|  race|death_date|             address|neighborhood|                type|   longitude|  latitude|name|age_2|\n",
      "+----------+---------+---+------+------+----------+--------------------+------------+--------------------+------------+----------+----+-----+\n",
      "|  Cesar A.|  Aguilar| 18|  Male|Latino|1992-04-30|     2009 W. 6th St.|    Westlake|Officer-involved ...|-118.2739756|34.0592814|null|   20|\n",
      "|    George|  Alvarez| 42|  Male|Latino|1992-05-01|Main & College st...|   Chinatown|    Not riot-related|-118.2340982|34.0626901|null|   44|\n",
      "|    Wilson|  Alvarez| 40|  Male|Latino|1992-05-23| 3100 Rosecrans Ave.|   Hawthorne|            Homicide| -118.326816| 33.901662|null|   42|\n",
      "|  Brian E.|   Andrew| 30|  Male| Black|1992-04-30|Rosecrans & Chest...|     Compton|Officer-involved ...|-118.2153903|33.9034569|null|   32|\n",
      "|    Vivian|   Austin| 87|Female| Black|1992-05-03|    1600 W. 60th St.|Harvard Park|               Death| -118.304741| 33.985667|null|   89|\n",
      "+----------+---------+---+------+------+----------+--------------------+------------+--------------------+------------+----------+----+-----+\n",
      "only showing top 5 rows\n",
      "\n"
     ]
    }
   ],
   "source": [
    "df_pyspark.show(5)"
   ]
  },
  {
   "cell_type": "code",
   "execution_count": 29,
   "id": "0764b0d5-850f-47fd-bf84-a5f26a11ba7c",
   "metadata": {},
   "outputs": [],
   "source": [
    "df_pyspark=df_pyspark.withColumn('name',df_pyspark['first_name'] + df_pyspark['last_name']) # does not work!"
   ]
  },
  {
   "cell_type": "code",
   "execution_count": 30,
   "id": "df277afb-d7e0-4964-b148-89bdac26014a",
   "metadata": {},
   "outputs": [
    {
     "name": "stdout",
     "output_type": "stream",
     "text": [
      "+----------+---------+---+------+------+----------+--------------------+------------+--------------------+------------+----------+----+-----+\n",
      "|first_name|last_name|age|gender|  race|death_date|             address|neighborhood|                type|   longitude|  latitude|name|age_2|\n",
      "+----------+---------+---+------+------+----------+--------------------+------------+--------------------+------------+----------+----+-----+\n",
      "|  Cesar A.|  Aguilar| 18|  Male|Latino|1992-04-30|     2009 W. 6th St.|    Westlake|Officer-involved ...|-118.2739756|34.0592814|null|   20|\n",
      "|    George|  Alvarez| 42|  Male|Latino|1992-05-01|Main & College st...|   Chinatown|    Not riot-related|-118.2340982|34.0626901|null|   44|\n",
      "|    Wilson|  Alvarez| 40|  Male|Latino|1992-05-23| 3100 Rosecrans Ave.|   Hawthorne|            Homicide| -118.326816| 33.901662|null|   42|\n",
      "|  Brian E.|   Andrew| 30|  Male| Black|1992-04-30|Rosecrans & Chest...|     Compton|Officer-involved ...|-118.2153903|33.9034569|null|   32|\n",
      "|    Vivian|   Austin| 87|Female| Black|1992-05-03|    1600 W. 60th St.|Harvard Park|               Death| -118.304741| 33.985667|null|   89|\n",
      "+----------+---------+---+------+------+----------+--------------------+------------+--------------------+------------+----------+----+-----+\n",
      "only showing top 5 rows\n",
      "\n"
     ]
    }
   ],
   "source": [
    "df_pyspark.show(5)"
   ]
  },
  {
   "cell_type": "code",
   "execution_count": 34,
   "id": "a59c4099-1034-4967-bbe4-bde096046857",
   "metadata": {},
   "outputs": [],
   "source": [
    "from pyspark.sql.functions import concat,col,lit"
   ]
  },
  {
   "cell_type": "code",
   "execution_count": 35,
   "id": "c889cf59-0d37-48de-9457-77d9e6b6c606",
   "metadata": {},
   "outputs": [
    {
     "name": "stdout",
     "output_type": "stream",
     "text": [
      "+--------------------------------+\n",
      "|concat(first_name,  , last_name)|\n",
      "+--------------------------------+\n",
      "|                Cesar A. Aguilar|\n",
      "|                  George Alvarez|\n",
      "|                  Wilson Alvarez|\n",
      "|                 Brian E. Andrew|\n",
      "|                   Vivian Austin|\n",
      "+--------------------------------+\n",
      "only showing top 5 rows\n",
      "\n"
     ]
    }
   ],
   "source": [
    "df_pyspark.select(concat(col(\"first_name\"), lit(\" \"), col(\"last_name\"))).show(5)"
   ]
  },
  {
   "cell_type": "code",
   "execution_count": 36,
   "id": "606ace3b-6b3e-4e44-91a3-d86f25bb7bfc",
   "metadata": {},
   "outputs": [
    {
     "name": "stdout",
     "output_type": "stream",
     "text": [
      "+----------+-------------+----+------+------+----------+--------------------+---------------+--------------------+------------+-----------+-----+\n",
      "|first_name|    last_name| age|gender|  race|death_date|             address|   neighborhood|                type|   longitude|   latitude|age_2|\n",
      "+----------+-------------+----+------+------+----------+--------------------+---------------+--------------------+------------+-----------+-----+\n",
      "|  Cesar A.|      Aguilar|  18|  Male|Latino|1992-04-30|     2009 W. 6th St.|       Westlake|Officer-involved ...|-118.2739756| 34.0592814|   20|\n",
      "|    George|      Alvarez|  42|  Male|Latino|1992-05-01|Main & College st...|      Chinatown|    Not riot-related|-118.2340982| 34.0626901|   44|\n",
      "|    Wilson|      Alvarez|  40|  Male|Latino|1992-05-23| 3100 Rosecrans Ave.|      Hawthorne|            Homicide| -118.326816|  33.901662|   42|\n",
      "|  Brian E.|       Andrew|  30|  Male| Black|1992-04-30|Rosecrans & Chest...|        Compton|Officer-involved ...|-118.2153903| 33.9034569|   32|\n",
      "|    Vivian|       Austin|  87|Female| Black|1992-05-03|    1600 W. 60th St.|   Harvard Park|               Death| -118.304741|  33.985667|   89|\n",
      "|  Franklin|    Benavidez|  27|  Male|Latino|1992-04-30|4404 S. Western Ave.| Vermont Square|Officer-involved ...|-118.3088215| 34.0034731|   29|\n",
      "|     Carol|       Benson|  42|Female| Black|1992-05-02|Harbor Freeway ne...|     South Park|               Death|-118.2805037|33.98916756|   44|\n",
      "|   Patrick|       Bettan|  30|  Male| White|1992-04-30|2740 W. Olympic B...|      Koreatown|            Homicide| -118.293181|  34.052068|   32|\n",
      "|    Hector|       Castro|  49|  Male|Latino|1992-04-30|Vermont & Leeward...|      Koreatown|            Homicide| -118.291654| 34.0587022|   51|\n",
      "|  Jerel L.|     Channell|  26|  Male| Black|1992-04-30|Santa Monica Boul...|      Hollywood|               Death|-118.3323783|34.09129756|   28|\n",
      "|   Gregory|    Davis Jr.|  15|  Male| Black|1992-04-30|Vermont Avenue & ...| Vermont Square|            Homicide|-118.2915492|  34.005485|   17|\n",
      "|      John|      Doe #80|null|  Male| White|1992-05-02|5800 block of Sou...|Vermont-Slauson|            Homicide|-118.2914954|33.98939885| null|\n",
      "|     Harry|       Doller|  56|  Male| White|1992-05-01|3500 block of Win...|    Silver Lake|    Not riot-related| -118.278763|34.08778849|   58|\n",
      "|  Kevin J.|      Edwards|  35|  Male| Black|1992-04-30|  614 S. Locust Ave.|        Compton|    Not riot-related|-118.2002522|  33.892421|   37|\n",
      "|    Howard|      Epstein|  45|  Male| White|1992-04-30|Slauson & 7th ave...|      Hyde Park|            Homicide|-118.3247424| 33.9890486|   47|\n",
      "|     Juana|     Espinosa|  65|Female|Latino|1992-05-02|7608 S. Compton Ave.|        Compton|            Homicide|-118.2461881| 33.9198205|   67|\n",
      "|  Kevin A.|     Evanahen|  24|  Male| White|1992-05-01|Braddock Drive & ...|        Del Rey|            Homicide|-118.4144533|33.99267241|   26|\n",
      "|   Jose L.|       Garcia|  15|  Male|Latino|1992-04-30|  1005 S. Fresno St.|  Boyle Heights|    Not riot-related|-118.2070419| 34.0275527|   17|\n",
      "|      Mark|       Garcia|  15|  Male|Latino|1992-04-30|10700 block of Bu...|         Lennox|Officer-involved ...|-118.3537656|33.93895407|   17|\n",
      "|     Elias|Garcia Rivera|  32|  Male|Latino|1992-12-16|   12834 Vanowen St.|    Valley Glen|            Homicide|-118.4137912| 34.1939342|   34|\n",
      "+----------+-------------+----+------+------+----------+--------------------+---------------+--------------------+------------+-----------+-----+\n",
      "only showing top 20 rows\n",
      "\n"
     ]
    }
   ],
   "source": [
    "df_pyspark=df_pyspark.drop('name')\n",
    "df_pyspark.show()"
   ]
  },
  {
   "cell_type": "code",
   "execution_count": 37,
   "id": "9833b164-1694-43dc-b215-dc45ab0e1c97",
   "metadata": {},
   "outputs": [
    {
     "name": "stdout",
     "output_type": "stream",
     "text": [
      "+----------+-------------+----+------+------+----------+--------------------+---------------+--------------------+------------+-----------+----------+\n",
      "|first_name|    last_name| age|gender|  race|death_date|             address|   neighborhood|                type|   longitude|   latitude|age_plus_2|\n",
      "+----------+-------------+----+------+------+----------+--------------------+---------------+--------------------+------------+-----------+----------+\n",
      "|  Cesar A.|      Aguilar|  18|  Male|Latino|1992-04-30|     2009 W. 6th St.|       Westlake|Officer-involved ...|-118.2739756| 34.0592814|        20|\n",
      "|    George|      Alvarez|  42|  Male|Latino|1992-05-01|Main & College st...|      Chinatown|    Not riot-related|-118.2340982| 34.0626901|        44|\n",
      "|    Wilson|      Alvarez|  40|  Male|Latino|1992-05-23| 3100 Rosecrans Ave.|      Hawthorne|            Homicide| -118.326816|  33.901662|        42|\n",
      "|  Brian E.|       Andrew|  30|  Male| Black|1992-04-30|Rosecrans & Chest...|        Compton|Officer-involved ...|-118.2153903| 33.9034569|        32|\n",
      "|    Vivian|       Austin|  87|Female| Black|1992-05-03|    1600 W. 60th St.|   Harvard Park|               Death| -118.304741|  33.985667|        89|\n",
      "|  Franklin|    Benavidez|  27|  Male|Latino|1992-04-30|4404 S. Western Ave.| Vermont Square|Officer-involved ...|-118.3088215| 34.0034731|        29|\n",
      "|     Carol|       Benson|  42|Female| Black|1992-05-02|Harbor Freeway ne...|     South Park|               Death|-118.2805037|33.98916756|        44|\n",
      "|   Patrick|       Bettan|  30|  Male| White|1992-04-30|2740 W. Olympic B...|      Koreatown|            Homicide| -118.293181|  34.052068|        32|\n",
      "|    Hector|       Castro|  49|  Male|Latino|1992-04-30|Vermont & Leeward...|      Koreatown|            Homicide| -118.291654| 34.0587022|        51|\n",
      "|  Jerel L.|     Channell|  26|  Male| Black|1992-04-30|Santa Monica Boul...|      Hollywood|               Death|-118.3323783|34.09129756|        28|\n",
      "|   Gregory|    Davis Jr.|  15|  Male| Black|1992-04-30|Vermont Avenue & ...| Vermont Square|            Homicide|-118.2915492|  34.005485|        17|\n",
      "|      John|      Doe #80|null|  Male| White|1992-05-02|5800 block of Sou...|Vermont-Slauson|            Homicide|-118.2914954|33.98939885|      null|\n",
      "|     Harry|       Doller|  56|  Male| White|1992-05-01|3500 block of Win...|    Silver Lake|    Not riot-related| -118.278763|34.08778849|        58|\n",
      "|  Kevin J.|      Edwards|  35|  Male| Black|1992-04-30|  614 S. Locust Ave.|        Compton|    Not riot-related|-118.2002522|  33.892421|        37|\n",
      "|    Howard|      Epstein|  45|  Male| White|1992-04-30|Slauson & 7th ave...|      Hyde Park|            Homicide|-118.3247424| 33.9890486|        47|\n",
      "|     Juana|     Espinosa|  65|Female|Latino|1992-05-02|7608 S. Compton Ave.|        Compton|            Homicide|-118.2461881| 33.9198205|        67|\n",
      "|  Kevin A.|     Evanahen|  24|  Male| White|1992-05-01|Braddock Drive & ...|        Del Rey|            Homicide|-118.4144533|33.99267241|        26|\n",
      "|   Jose L.|       Garcia|  15|  Male|Latino|1992-04-30|  1005 S. Fresno St.|  Boyle Heights|    Not riot-related|-118.2070419| 34.0275527|        17|\n",
      "|      Mark|       Garcia|  15|  Male|Latino|1992-04-30|10700 block of Bu...|         Lennox|Officer-involved ...|-118.3537656|33.93895407|        17|\n",
      "|     Elias|Garcia Rivera|  32|  Male|Latino|1992-12-16|   12834 Vanowen St.|    Valley Glen|            Homicide|-118.4137912| 34.1939342|        34|\n",
      "+----------+-------------+----+------+------+----------+--------------------+---------------+--------------------+------------+-----------+----------+\n",
      "only showing top 20 rows\n",
      "\n"
     ]
    }
   ],
   "source": [
    "df_pyspark.withColumnRenamed('age_2', 'age_plus_2').show()"
   ]
  },
  {
   "cell_type": "code",
   "execution_count": null,
   "id": "9d27a6ee-8268-43de-a6a5-0fba155217a5",
   "metadata": {},
   "outputs": [],
   "source": []
  }
 ],
 "metadata": {
  "kernelspec": {
   "display_name": "Python 3 (ipykernel)",
   "language": "python",
   "name": "python3"
  },
  "language_info": {
   "codemirror_mode": {
    "name": "ipython",
    "version": 3
   },
   "file_extension": ".py",
   "mimetype": "text/x-python",
   "name": "python",
   "nbconvert_exporter": "python",
   "pygments_lexer": "ipython3",
   "version": "3.9.7"
  }
 },
 "nbformat": 4,
 "nbformat_minor": 5
}
