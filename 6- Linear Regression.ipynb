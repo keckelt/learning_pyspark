{
 "cells": [
  {
   "cell_type": "markdown",
   "id": "7c23ed18-9fe8-4893-8a44-79724951dfec",
   "metadata": {},
   "source": [
    "# Linear Regression\n",
    "see: http://spark.apache.org/mllib/\n",
    "'\n",
    "compare: https://github.com/krishnaik06/Pyspark-With-Python/blob/main/Tutorial%208-Linear%20Regression%20With%20Pyspark.ipynb"
   ]
  },
  {
   "cell_type": "code",
   "execution_count": 1,
   "id": "04d9e1ae-b2a5-4af7-bff3-b36f067f1daf",
   "metadata": {},
   "outputs": [],
   "source": [
    "from pyspark.sql import SparkSession"
   ]
  },
  {
   "cell_type": "code",
   "execution_count": 2,
   "id": "93901afc-1ec6-4647-bb4b-430f3a6b147c",
   "metadata": {
    "tags": []
   },
   "outputs": [
    {
     "name": "stderr",
     "output_type": "stream",
     "text": [
      "WARNING: An illegal reflective access operation has occurred\n",
      "WARNING: Illegal reflective access by org.apache.spark.unsafe.Platform (file:/usr/local/spark-3.2.0-bin-hadoop3.2/jars/spark-unsafe_2.12-3.2.0.jar) to constructor java.nio.DirectByteBuffer(long,int)\n",
      "WARNING: Please consider reporting this to the maintainers of org.apache.spark.unsafe.Platform\n",
      "WARNING: Use --illegal-access=warn to enable warnings of further illegal reflective access operations\n",
      "WARNING: All illegal access operations will be denied in a future release\n",
      "Using Spark's default log4j profile: org/apache/spark/log4j-defaults.properties\n",
      "Setting default log level to \"WARN\".\n",
      "To adjust logging level use sc.setLogLevel(newLevel). For SparkR, use setLogLevel(newLevel).\n",
      "21/11/29 12:20:02 WARN NativeCodeLoader: Unable to load native-hadoop library for your platform... using builtin-java classes where applicable\n"
     ]
    }
   ],
   "source": [
    "spark=SparkSession.builder.appName('Regression').getOrCreate()"
   ]
  },
  {
   "cell_type": "code",
   "execution_count": 3,
   "id": "51f26e44-8d3c-40a8-affb-2989ac7a4dbb",
   "metadata": {},
   "outputs": [
    {
     "name": "stderr",
     "output_type": "stream",
     "text": [
      "                                                                                \r"
     ]
    }
   ],
   "source": [
    "df=spark.read.csv('tips.csv',header=True,inferSchema=True) #inferSchema --> age type turns from string to integer"
   ]
  },
  {
   "cell_type": "code",
   "execution_count": 4,
   "id": "d5b6d3b5-83ff-4f48-8c63-e5119b51ec3f",
   "metadata": {},
   "outputs": [
    {
     "name": "stdout",
     "output_type": "stream",
     "text": [
      "+----------+----+------+------+---+------+----+\n",
      "|total_bill| tip|   sex|smoker|day|  time|size|\n",
      "+----------+----+------+------+---+------+----+\n",
      "|     16.99|1.01|Female|    No|Sun|Dinner|   2|\n",
      "|     10.34|1.66|  Male|    No|Sun|Dinner|   3|\n",
      "|     21.01| 3.5|  Male|    No|Sun|Dinner|   3|\n",
      "|     23.68|3.31|  Male|    No|Sun|Dinner|   2|\n",
      "|     24.59|3.61|Female|    No|Sun|Dinner|   4|\n",
      "|     25.29|4.71|  Male|    No|Sun|Dinner|   4|\n",
      "|      8.77| 2.0|  Male|    No|Sun|Dinner|   2|\n",
      "|     26.88|3.12|  Male|    No|Sun|Dinner|   4|\n",
      "|     15.04|1.96|  Male|    No|Sun|Dinner|   2|\n",
      "|     14.78|3.23|  Male|    No|Sun|Dinner|   2|\n",
      "|     10.27|1.71|  Male|    No|Sun|Dinner|   2|\n",
      "|     35.26| 5.0|Female|    No|Sun|Dinner|   4|\n",
      "|     15.42|1.57|  Male|    No|Sun|Dinner|   2|\n",
      "|     18.43| 3.0|  Male|    No|Sun|Dinner|   4|\n",
      "|     14.83|3.02|Female|    No|Sun|Dinner|   2|\n",
      "|     21.58|3.92|  Male|    No|Sun|Dinner|   2|\n",
      "|     10.33|1.67|Female|    No|Sun|Dinner|   3|\n",
      "|     16.29|3.71|  Male|    No|Sun|Dinner|   3|\n",
      "|     16.97| 3.5|Female|    No|Sun|Dinner|   3|\n",
      "|     20.65|3.35|  Male|    No|Sat|Dinner|   3|\n",
      "+----------+----+------+------+---+------+----+\n",
      "only showing top 20 rows\n",
      "\n",
      "root\n",
      " |-- total_bill: double (nullable = true)\n",
      " |-- tip: double (nullable = true)\n",
      " |-- sex: string (nullable = true)\n",
      " |-- smoker: string (nullable = true)\n",
      " |-- day: string (nullable = true)\n",
      " |-- time: string (nullable = true)\n",
      " |-- size: integer (nullable = true)\n",
      "\n"
     ]
    }
   ],
   "source": [
    "df.show()\n",
    "df.printSchema()"
   ]
  },
  {
   "cell_type": "markdown",
   "id": "7c3c4871-e692-406f-b00d-a88fc688cb15",
   "metadata": {},
   "source": [
    "## StringIndexer\n",
    "Categorical to Ordinal numbers"
   ]
  },
  {
   "cell_type": "code",
   "execution_count": 5,
   "id": "a6ba51bd-1fd9-48b5-b4bf-aec8aa28bf56",
   "metadata": {},
   "outputs": [],
   "source": [
    "### Handling Categorical Features\n",
    "from pyspark.ml.feature import StringIndexer"
   ]
  },
  {
   "cell_type": "code",
   "execution_count": 6,
   "id": "85d6f33b-4e74-486d-abd9-3707693e0688",
   "metadata": {},
   "outputs": [
    {
     "name": "stderr",
     "output_type": "stream",
     "text": [
      "                                                                                \r"
     ]
    },
    {
     "name": "stdout",
     "output_type": "stream",
     "text": [
      "+----------+----+------+------+---+------+----+-----------+\n",
      "|total_bill| tip|   sex|smoker|day|  time|size|sex_indexed|\n",
      "+----------+----+------+------+---+------+----+-----------+\n",
      "|     16.99|1.01|Female|    No|Sun|Dinner|   2|        1.0|\n",
      "|     10.34|1.66|  Male|    No|Sun|Dinner|   3|        0.0|\n",
      "|     21.01| 3.5|  Male|    No|Sun|Dinner|   3|        0.0|\n",
      "|     23.68|3.31|  Male|    No|Sun|Dinner|   2|        0.0|\n",
      "|     24.59|3.61|Female|    No|Sun|Dinner|   4|        1.0|\n",
      "|     25.29|4.71|  Male|    No|Sun|Dinner|   4|        0.0|\n",
      "|      8.77| 2.0|  Male|    No|Sun|Dinner|   2|        0.0|\n",
      "|     26.88|3.12|  Male|    No|Sun|Dinner|   4|        0.0|\n",
      "|     15.04|1.96|  Male|    No|Sun|Dinner|   2|        0.0|\n",
      "|     14.78|3.23|  Male|    No|Sun|Dinner|   2|        0.0|\n",
      "|     10.27|1.71|  Male|    No|Sun|Dinner|   2|        0.0|\n",
      "|     35.26| 5.0|Female|    No|Sun|Dinner|   4|        1.0|\n",
      "|     15.42|1.57|  Male|    No|Sun|Dinner|   2|        0.0|\n",
      "|     18.43| 3.0|  Male|    No|Sun|Dinner|   4|        0.0|\n",
      "|     14.83|3.02|Female|    No|Sun|Dinner|   2|        1.0|\n",
      "|     21.58|3.92|  Male|    No|Sun|Dinner|   2|        0.0|\n",
      "|     10.33|1.67|Female|    No|Sun|Dinner|   3|        1.0|\n",
      "|     16.29|3.71|  Male|    No|Sun|Dinner|   3|        0.0|\n",
      "|     16.97| 3.5|Female|    No|Sun|Dinner|   3|        1.0|\n",
      "|     20.65|3.35|  Male|    No|Sat|Dinner|   3|        0.0|\n",
      "+----------+----+------+------+---+------+----+-----------+\n",
      "only showing top 20 rows\n",
      "\n"
     ]
    }
   ],
   "source": [
    "indexer=StringIndexer(inputCol=\"sex\",outputCol=\"sex_indexed\")\n",
    "df_r=indexer.fit(df).transform(df)\n",
    "df_r.show()"
   ]
  },
  {
   "cell_type": "code",
   "execution_count": 7,
   "id": "a1b23ea8-0f79-449f-90ac-654688c34a30",
   "metadata": {},
   "outputs": [
    {
     "name": "stdout",
     "output_type": "stream",
     "text": [
      "+----------+----+------+------+---+------+----+-----------+--------------+-----------+----------+\n",
      "|total_bill| tip|   sex|smoker|day|  time|size|sex_indexed|smoker_indexed|day_indexed|time_index|\n",
      "+----------+----+------+------+---+------+----+-----------+--------------+-----------+----------+\n",
      "|     16.99|1.01|Female|    No|Sun|Dinner|   2|        1.0|           0.0|        1.0|       0.0|\n",
      "|     10.34|1.66|  Male|    No|Sun|Dinner|   3|        0.0|           0.0|        1.0|       0.0|\n",
      "|     21.01| 3.5|  Male|    No|Sun|Dinner|   3|        0.0|           0.0|        1.0|       0.0|\n",
      "|     23.68|3.31|  Male|    No|Sun|Dinner|   2|        0.0|           0.0|        1.0|       0.0|\n",
      "|     24.59|3.61|Female|    No|Sun|Dinner|   4|        1.0|           0.0|        1.0|       0.0|\n",
      "|     25.29|4.71|  Male|    No|Sun|Dinner|   4|        0.0|           0.0|        1.0|       0.0|\n",
      "|      8.77| 2.0|  Male|    No|Sun|Dinner|   2|        0.0|           0.0|        1.0|       0.0|\n",
      "|     26.88|3.12|  Male|    No|Sun|Dinner|   4|        0.0|           0.0|        1.0|       0.0|\n",
      "|     15.04|1.96|  Male|    No|Sun|Dinner|   2|        0.0|           0.0|        1.0|       0.0|\n",
      "|     14.78|3.23|  Male|    No|Sun|Dinner|   2|        0.0|           0.0|        1.0|       0.0|\n",
      "|     10.27|1.71|  Male|    No|Sun|Dinner|   2|        0.0|           0.0|        1.0|       0.0|\n",
      "|     35.26| 5.0|Female|    No|Sun|Dinner|   4|        1.0|           0.0|        1.0|       0.0|\n",
      "|     15.42|1.57|  Male|    No|Sun|Dinner|   2|        0.0|           0.0|        1.0|       0.0|\n",
      "|     18.43| 3.0|  Male|    No|Sun|Dinner|   4|        0.0|           0.0|        1.0|       0.0|\n",
      "|     14.83|3.02|Female|    No|Sun|Dinner|   2|        1.0|           0.0|        1.0|       0.0|\n",
      "|     21.58|3.92|  Male|    No|Sun|Dinner|   2|        0.0|           0.0|        1.0|       0.0|\n",
      "|     10.33|1.67|Female|    No|Sun|Dinner|   3|        1.0|           0.0|        1.0|       0.0|\n",
      "|     16.29|3.71|  Male|    No|Sun|Dinner|   3|        0.0|           0.0|        1.0|       0.0|\n",
      "|     16.97| 3.5|Female|    No|Sun|Dinner|   3|        1.0|           0.0|        1.0|       0.0|\n",
      "|     20.65|3.35|  Male|    No|Sat|Dinner|   3|        0.0|           0.0|        0.0|       0.0|\n",
      "+----------+----+------+------+---+------+----+-----------+--------------+-----------+----------+\n",
      "only showing top 20 rows\n",
      "\n"
     ]
    }
   ],
   "source": [
    "indexer=StringIndexer(inputCols=[\"smoker\",\"day\",\"time\"],outputCols=[\"smoker_indexed\",\"day_indexed\",\n",
    "                                                                  \"time_index\"])\n",
    "df_r=indexer.fit(df_r).transform(df_r)\n",
    "df_r.show()"
   ]
  },
  {
   "cell_type": "markdown",
   "id": "9dfcab4f-027d-40b9-9d8c-99fe375142ff",
   "metadata": {},
   "source": [
    "## VectorAssembler\n",
    "assamble encoded features"
   ]
  },
  {
   "cell_type": "code",
   "execution_count": 8,
   "id": "e960a61b-bede-4118-b78a-2f9898b66eaf",
   "metadata": {},
   "outputs": [],
   "source": [
    "from pyspark.ml.feature import VectorAssembler\n",
    "featureassembler=VectorAssembler(inputCols=['tip','size','sex_indexed','smoker_indexed','day_indexed',\n",
    "                          'time_index'],outputCol=\"Independent Features\")\n",
    "output=featureassembler.transform(df_r)"
   ]
  },
  {
   "cell_type": "code",
   "execution_count": 9,
   "id": "0dbab2c2-13c5-4f8d-889b-a3ab1782b178",
   "metadata": {},
   "outputs": [
    {
     "name": "stdout",
     "output_type": "stream",
     "text": [
      "+----------+----+------+------+---+------+----+-----------+--------------+-----------+----------+--------------------+\n",
      "|total_bill| tip|   sex|smoker|day|  time|size|sex_indexed|smoker_indexed|day_indexed|time_index|Independent Features|\n",
      "+----------+----+------+------+---+------+----+-----------+--------------+-----------+----------+--------------------+\n",
      "|     16.99|1.01|Female|    No|Sun|Dinner|   2|        1.0|           0.0|        1.0|       0.0|[1.01,2.0,1.0,0.0...|\n",
      "|     10.34|1.66|  Male|    No|Sun|Dinner|   3|        0.0|           0.0|        1.0|       0.0|[1.66,3.0,0.0,0.0...|\n",
      "|     21.01| 3.5|  Male|    No|Sun|Dinner|   3|        0.0|           0.0|        1.0|       0.0|[3.5,3.0,0.0,0.0,...|\n",
      "|     23.68|3.31|  Male|    No|Sun|Dinner|   2|        0.0|           0.0|        1.0|       0.0|[3.31,2.0,0.0,0.0...|\n",
      "|     24.59|3.61|Female|    No|Sun|Dinner|   4|        1.0|           0.0|        1.0|       0.0|[3.61,4.0,1.0,0.0...|\n",
      "|     25.29|4.71|  Male|    No|Sun|Dinner|   4|        0.0|           0.0|        1.0|       0.0|[4.71,4.0,0.0,0.0...|\n",
      "|      8.77| 2.0|  Male|    No|Sun|Dinner|   2|        0.0|           0.0|        1.0|       0.0|[2.0,2.0,0.0,0.0,...|\n",
      "|     26.88|3.12|  Male|    No|Sun|Dinner|   4|        0.0|           0.0|        1.0|       0.0|[3.12,4.0,0.0,0.0...|\n",
      "|     15.04|1.96|  Male|    No|Sun|Dinner|   2|        0.0|           0.0|        1.0|       0.0|[1.96,2.0,0.0,0.0...|\n",
      "|     14.78|3.23|  Male|    No|Sun|Dinner|   2|        0.0|           0.0|        1.0|       0.0|[3.23,2.0,0.0,0.0...|\n",
      "|     10.27|1.71|  Male|    No|Sun|Dinner|   2|        0.0|           0.0|        1.0|       0.0|[1.71,2.0,0.0,0.0...|\n",
      "|     35.26| 5.0|Female|    No|Sun|Dinner|   4|        1.0|           0.0|        1.0|       0.0|[5.0,4.0,1.0,0.0,...|\n",
      "|     15.42|1.57|  Male|    No|Sun|Dinner|   2|        0.0|           0.0|        1.0|       0.0|[1.57,2.0,0.0,0.0...|\n",
      "|     18.43| 3.0|  Male|    No|Sun|Dinner|   4|        0.0|           0.0|        1.0|       0.0|[3.0,4.0,0.0,0.0,...|\n",
      "|     14.83|3.02|Female|    No|Sun|Dinner|   2|        1.0|           0.0|        1.0|       0.0|[3.02,2.0,1.0,0.0...|\n",
      "|     21.58|3.92|  Male|    No|Sun|Dinner|   2|        0.0|           0.0|        1.0|       0.0|[3.92,2.0,0.0,0.0...|\n",
      "|     10.33|1.67|Female|    No|Sun|Dinner|   3|        1.0|           0.0|        1.0|       0.0|[1.67,3.0,1.0,0.0...|\n",
      "|     16.29|3.71|  Male|    No|Sun|Dinner|   3|        0.0|           0.0|        1.0|       0.0|[3.71,3.0,0.0,0.0...|\n",
      "|     16.97| 3.5|Female|    No|Sun|Dinner|   3|        1.0|           0.0|        1.0|       0.0|[3.5,3.0,1.0,0.0,...|\n",
      "|     20.65|3.35|  Male|    No|Sat|Dinner|   3|        0.0|           0.0|        0.0|       0.0|(6,[0,1],[3.35,3.0])|\n",
      "+----------+----+------+------+---+------+----+-----------+--------------+-----------+----------+--------------------+\n",
      "only showing top 20 rows\n",
      "\n"
     ]
    }
   ],
   "source": [
    "output.show()"
   ]
  },
  {
   "cell_type": "code",
   "execution_count": 10,
   "id": "41d182e2-fad7-4792-835c-fdb3fab97629",
   "metadata": {},
   "outputs": [
    {
     "name": "stdout",
     "output_type": "stream",
     "text": [
      "+--------------------+----------+\n",
      "|Independent Features|total_bill|\n",
      "+--------------------+----------+\n",
      "|[1.01,2.0,1.0,0.0...|     16.99|\n",
      "|[1.66,3.0,0.0,0.0...|     10.34|\n",
      "|[3.5,3.0,0.0,0.0,...|     21.01|\n",
      "|[3.31,2.0,0.0,0.0...|     23.68|\n",
      "|[3.61,4.0,1.0,0.0...|     24.59|\n",
      "|[4.71,4.0,0.0,0.0...|     25.29|\n",
      "|[2.0,2.0,0.0,0.0,...|      8.77|\n",
      "|[3.12,4.0,0.0,0.0...|     26.88|\n",
      "|[1.96,2.0,0.0,0.0...|     15.04|\n",
      "|[3.23,2.0,0.0,0.0...|     14.78|\n",
      "|[1.71,2.0,0.0,0.0...|     10.27|\n",
      "|[5.0,4.0,1.0,0.0,...|     35.26|\n",
      "|[1.57,2.0,0.0,0.0...|     15.42|\n",
      "|[3.0,4.0,0.0,0.0,...|     18.43|\n",
      "|[3.02,2.0,1.0,0.0...|     14.83|\n",
      "|[3.92,2.0,0.0,0.0...|     21.58|\n",
      "|[1.67,3.0,1.0,0.0...|     10.33|\n",
      "|[3.71,3.0,0.0,0.0...|     16.29|\n",
      "|[3.5,3.0,1.0,0.0,...|     16.97|\n",
      "|(6,[0,1],[3.35,3.0])|     20.65|\n",
      "+--------------------+----------+\n",
      "only showing top 20 rows\n",
      "\n"
     ]
    }
   ],
   "source": [
    "finalized_data=output.select(\"Independent Features\",\"total_bill\")\n",
    "finalized_data.show()"
   ]
  },
  {
   "cell_type": "markdown",
   "id": "771d0d1f-f5a3-4133-963c-23c29f9b7d2f",
   "metadata": {},
   "source": [
    "## Regression"
   ]
  },
  {
   "cell_type": "code",
   "execution_count": 11,
   "id": "3cd167b5-f3ca-45bd-8425-bc2fa2e5cd1e",
   "metadata": {},
   "outputs": [],
   "source": [
    "from pyspark.ml.regression import LinearRegression"
   ]
  },
  {
   "cell_type": "code",
   "execution_count": 12,
   "id": "29c8f6b2-b8ea-43ec-86df-287befd73c43",
   "metadata": {},
   "outputs": [],
   "source": [
    "##train test split\n",
    "train_data,test_data=finalized_data.randomSplit([0.75,0.25])\n"
   ]
  },
  {
   "cell_type": "code",
   "execution_count": 13,
   "id": "321811d5-a5aa-44a1-9286-9979b2360c87",
   "metadata": {},
   "outputs": [
    {
     "name": "stderr",
     "output_type": "stream",
     "text": [
      "21/11/29 12:20:30 WARN Instrumentation: [51b50bed] regParam is zero, which might cause numerical instability and overfitting.\n",
      "21/11/29 12:20:31 WARN InstanceBuilder$NativeBLAS: Failed to load implementation from:dev.ludovic.netlib.blas.JNIBLAS\n",
      "21/11/29 12:20:31 WARN InstanceBuilder$NativeBLAS: Failed to load implementation from:dev.ludovic.netlib.blas.ForeignLinkerBLAS\n",
      "21/11/29 12:20:31 WARN InstanceBuilder$NativeLAPACK: Failed to load implementation from:dev.ludovic.netlib.lapack.JNILAPACK\n"
     ]
    }
   ],
   "source": [
    "regressor=LinearRegression(featuresCol='Independent Features', labelCol='total_bill')\n",
    "regressor=regressor.fit(train_data)"
   ]
  },
  {
   "cell_type": "code",
   "execution_count": 14,
   "id": "39a97abb-13e7-4a49-ae46-7e6f0dac4784",
   "metadata": {},
   "outputs": [
    {
     "data": {
      "text/plain": [
       "(DenseVector([3.1167, 3.4153, -1.0985, 2.822, -0.1153, -2.0912]),\n",
       " 2.048528068168775)"
      ]
     },
     "execution_count": 14,
     "metadata": {},
     "output_type": "execute_result"
    }
   ],
   "source": [
    "regressor.coefficients, regressor.intercept"
   ]
  },
  {
   "cell_type": "code",
   "execution_count": 15,
   "id": "af3f2ff4-ce11-4056-b63d-8e7ac146dcaf",
   "metadata": {},
   "outputs": [
    {
     "name": "stdout",
     "output_type": "stream",
     "text": [
      "LogisticRegression parameters:\n",
      "aggregationDepth: suggested depth for treeAggregate (>= 2). (default: 2)\n",
      "elasticNetParam: the ElasticNet mixing parameter, in range [0, 1]. For alpha = 0, the penalty is an L2 penalty. For alpha = 1, it is an L1 penalty. (default: 0.0)\n",
      "epsilon: The shape parameter to control the amount of robustness. Must be > 1.0. Only valid when loss is huber (default: 1.35)\n",
      "featuresCol: features column name. (default: features, current: Independent Features)\n",
      "fitIntercept: whether to fit an intercept term. (default: True)\n",
      "labelCol: label column name. (default: label, current: total_bill)\n",
      "loss: The loss function to be optimized. Supported options: squaredError, huber. (default: squaredError)\n",
      "maxBlockSizeInMB: maximum memory in MB for stacking input data into blocks. Data is stacked within partitions. If more than remaining data size in a partition then it is adjusted to the data size. Default 0.0 represents choosing optimal value, depends on specific algorithm. Must be >= 0. (default: 0.0)\n",
      "maxIter: max number of iterations (>= 0). (default: 100)\n",
      "predictionCol: prediction column name. (default: prediction)\n",
      "regParam: regularization parameter (>= 0). (default: 0.0)\n",
      "solver: The solver algorithm for optimization. Supported options: auto, normal, l-bfgs. (default: auto)\n",
      "standardization: whether to standardize the training features before fitting the model. (default: True)\n",
      "tol: the convergence tolerance for iterative algorithms (>= 0). (default: 1e-06)\n",
      "weightCol: weight column name. If this is not set or empty, we treat all instance weights as 1.0. (undefined)\n",
      "\n"
     ]
    }
   ],
   "source": [
    "print(\"LogisticRegression parameters:\\n\" + regressor.explainParams() + \"\\n\")"
   ]
  },
  {
   "cell_type": "code",
   "execution_count": 16,
   "id": "0b0e3b98-cc27-4482-9465-3583c8aba206",
   "metadata": {},
   "outputs": [
    {
     "name": "stderr",
     "output_type": "stream",
     "text": [
      "/usr/local/spark/python/pyspark/sql/context.py:125: FutureWarning: Deprecated in 3.0.0. Use SparkSession.builder.getOrCreate() instead.\n",
      "  warnings.warn(\n"
     ]
    },
    {
     "name": "stdout",
     "output_type": "stream",
     "text": [
      "+--------------------+----------+------------------+\n",
      "|Independent Features|total_bill|        prediction|\n",
      "+--------------------+----------+------------------+\n",
      "|(6,[0,1],[1.25,2.0])|     10.07|12.774966705302035|\n",
      "|(6,[0,1],[1.45,2.0])|      9.55|13.398304393137984|\n",
      "|(6,[0,1],[1.97,2.0])|     12.02|15.018982381511453|\n",
      "|(6,[0,1],[2.01,2.0])|     20.23| 15.14364991907864|\n",
      "|(6,[0,1],[2.31,3.0])|     18.69|19.493945494911852|\n",
      "|(6,[0,1],[2.34,4.0])|     17.81|23.002735192166533|\n",
      "| (6,[0,1],[3.0,4.0])|     20.45|25.059749562025168|\n",
      "|(6,[0,1],[3.18,2.0])|     19.82|18.790175392918947|\n",
      "|(6,[0,1],[3.27,2.0])|     17.78|19.070677352445124|\n",
      "|(6,[0,1],[3.35,3.0])|     20.65| 22.73530147165879|\n",
      "| (6,[0,1],[4.3,2.0])|      21.7|22.280866444800264|\n",
      "|[1.0,2.0,0.0,1.0,...|      12.6|14.817786995066516|\n",
      "|[1.0,2.0,1.0,1.0,...|      5.75|13.373335353482787|\n",
      "|[1.25,2.0,1.0,0.0...|      8.51| 9.354693031592538|\n",
      "|[1.32,2.0,0.0,0.0...|      9.68|12.877805526940925|\n",
      "|[1.36,3.0,1.0,0.0...|     18.64|13.112817803981596|\n",
      "|[1.5,2.0,0.0,0.0,...|     12.46|  13.2081507077859|\n",
      "|[1.5,2.0,0.0,1.0,...|     12.03| 16.03014310734532|\n",
      "|[1.5,2.0,1.0,0.0,...|     11.17|10.133865141387474|\n",
      "|[1.64,2.0,0.0,1.0...|     15.36|16.812467596141556|\n",
      "+--------------------+----------+------------------+\n",
      "only showing top 20 rows\n",
      "\n"
     ]
    }
   ],
   "source": [
    "### Predictions\n",
    "pred_results=regressor.evaluate(test_data)\n",
    "pred_results.predictions.show()"
   ]
  },
  {
   "cell_type": "code",
   "execution_count": 17,
   "id": "62e24426-e1df-42b4-aabc-d3c53a31c968",
   "metadata": {},
   "outputs": [
    {
     "data": {
      "text/plain": [
       "(0.4797767481799341, 3.5638208485479517, 24.281584682241192)"
      ]
     },
     "execution_count": 17,
     "metadata": {},
     "output_type": "execute_result"
    }
   ],
   "source": [
    "### Performance Metrics\n",
    "pred_results.r2,pred_results.meanAbsoluteError,pred_results.meanSquaredError"
   ]
  },
  {
   "cell_type": "markdown",
   "id": "b54de16f-30d6-46c0-a401-ef7fe658c706",
   "metadata": {},
   "source": [
    "## Pipeline"
   ]
  },
  {
   "cell_type": "code",
   "execution_count": 18,
   "id": "4064263f-9893-44ed-8c18-0b8aab202096",
   "metadata": {},
   "outputs": [],
   "source": [
    "from pyspark.ml import Pipeline"
   ]
  },
  {
   "cell_type": "code",
   "execution_count": 38,
   "id": "0acb1a1a-d2bf-4975-a781-97d74df1e6e6",
   "metadata": {},
   "outputs": [],
   "source": [
    "#reload data\n",
    "df=spark.read.csv('tips.csv',header=True,inferSchema=True) #inferSchema --> age type turns from string to integer"
   ]
  },
  {
   "cell_type": "code",
   "execution_count": 39,
   "id": "697bb9c3-5b49-44f7-b876-369091ff6e1f",
   "metadata": {},
   "outputs": [],
   "source": [
    "##train test split\n",
    "train_data,test_data=df.randomSplit([0.75,0.25])"
   ]
  },
  {
   "cell_type": "code",
   "execution_count": 40,
   "id": "e7b9e163-a362-45f3-991b-ebbc091d0fd5",
   "metadata": {},
   "outputs": [
    {
     "ename": "TypeError",
     "evalue": "__init__() got an unexpected keyword argument 'probabilityCol'",
     "output_type": "error",
     "traceback": [
      "\u001b[0;31m---------------------------------------------------------------------------\u001b[0m",
      "\u001b[0;31mTypeError\u001b[0m                                 Traceback (most recent call last)",
      "\u001b[0;32m/tmp/ipykernel_1588/776167007.py\u001b[0m in \u001b[0;36m<module>\u001b[0;34m\u001b[0m\n\u001b[1;32m      1\u001b[0m \u001b[0mindexer\u001b[0m\u001b[0;34m=\u001b[0m\u001b[0mStringIndexer\u001b[0m\u001b[0;34m(\u001b[0m\u001b[0minputCols\u001b[0m\u001b[0;34m=\u001b[0m\u001b[0;34m[\u001b[0m\u001b[0;34m\"sex\"\u001b[0m\u001b[0;34m,\u001b[0m \u001b[0;34m\"smoker\"\u001b[0m\u001b[0;34m,\u001b[0m\u001b[0;34m\"day\"\u001b[0m\u001b[0;34m,\u001b[0m\u001b[0;34m\"time\"\u001b[0m\u001b[0;34m]\u001b[0m\u001b[0;34m,\u001b[0m\u001b[0moutputCols\u001b[0m\u001b[0;34m=\u001b[0m\u001b[0;34m[\u001b[0m\u001b[0;34m\"sex_indexed\"\u001b[0m\u001b[0;34m,\u001b[0m \u001b[0;34m\"smoker_indexed\"\u001b[0m\u001b[0;34m,\u001b[0m\u001b[0;34m\"day_indexed\"\u001b[0m\u001b[0;34m,\u001b[0m\u001b[0;34m\"time_index\"\u001b[0m\u001b[0;34m]\u001b[0m\u001b[0;34m)\u001b[0m\u001b[0;34m\u001b[0m\u001b[0;34m\u001b[0m\u001b[0m\n\u001b[1;32m      2\u001b[0m \u001b[0massembler\u001b[0m\u001b[0;34m=\u001b[0m\u001b[0mVectorAssembler\u001b[0m\u001b[0;34m(\u001b[0m\u001b[0minputCols\u001b[0m\u001b[0;34m=\u001b[0m\u001b[0;34m[\u001b[0m\u001b[0;34m'tip'\u001b[0m\u001b[0;34m,\u001b[0m\u001b[0;34m'size'\u001b[0m\u001b[0;34m,\u001b[0m\u001b[0;34m'sex_indexed'\u001b[0m\u001b[0;34m,\u001b[0m\u001b[0;34m'smoker_indexed'\u001b[0m\u001b[0;34m,\u001b[0m\u001b[0;34m'day_indexed'\u001b[0m\u001b[0;34m,\u001b[0m\u001b[0;34m'time_index'\u001b[0m\u001b[0;34m]\u001b[0m\u001b[0;34m,\u001b[0m\u001b[0moutputCol\u001b[0m\u001b[0;34m=\u001b[0m\u001b[0;34m\"Independent Features\"\u001b[0m\u001b[0;34m)\u001b[0m\u001b[0;34m\u001b[0m\u001b[0;34m\u001b[0m\u001b[0m\n\u001b[0;32m----> 3\u001b[0;31m \u001b[0mregressor\u001b[0m\u001b[0;34m=\u001b[0m\u001b[0mLinearRegression\u001b[0m\u001b[0;34m(\u001b[0m\u001b[0mfeaturesCol\u001b[0m\u001b[0;34m=\u001b[0m\u001b[0;34m'Independent Features'\u001b[0m\u001b[0;34m,\u001b[0m \u001b[0mlabelCol\u001b[0m\u001b[0;34m=\u001b[0m\u001b[0;34m'total_bill'\u001b[0m\u001b[0;34m,\u001b[0m \u001b[0mprobabilityCol\u001b[0m\u001b[0;34m=\u001b[0m\u001b[0;34m'probability'\u001b[0m\u001b[0;34m)\u001b[0m\u001b[0;34m\u001b[0m\u001b[0;34m\u001b[0m\u001b[0m\n\u001b[0m\u001b[1;32m      4\u001b[0m \u001b[0;34m\u001b[0m\u001b[0m\n\u001b[1;32m      5\u001b[0m \u001b[0;31m#onehotencoder_qualification_vector = OneHotEncoder(inputCol=\"qualificationIndex\", outputCol=\"qualification_vec\")\u001b[0m\u001b[0;34m\u001b[0m\u001b[0;34m\u001b[0m\u001b[0m\n",
      "\u001b[0;32m/usr/local/spark/python/pyspark/__init__.py\u001b[0m in \u001b[0;36mwrapper\u001b[0;34m(self, *args, **kwargs)\u001b[0m\n\u001b[1;32m    112\u001b[0m             \u001b[0;32mraise\u001b[0m \u001b[0mTypeError\u001b[0m\u001b[0;34m(\u001b[0m\u001b[0;34m\"Method %s forces keyword arguments.\"\u001b[0m \u001b[0;34m%\u001b[0m \u001b[0mfunc\u001b[0m\u001b[0;34m.\u001b[0m\u001b[0m__name__\u001b[0m\u001b[0;34m)\u001b[0m\u001b[0;34m\u001b[0m\u001b[0;34m\u001b[0m\u001b[0m\n\u001b[1;32m    113\u001b[0m         \u001b[0mself\u001b[0m\u001b[0;34m.\u001b[0m\u001b[0m_input_kwargs\u001b[0m \u001b[0;34m=\u001b[0m \u001b[0mkwargs\u001b[0m\u001b[0;34m\u001b[0m\u001b[0;34m\u001b[0m\u001b[0m\n\u001b[0;32m--> 114\u001b[0;31m         \u001b[0;32mreturn\u001b[0m \u001b[0mfunc\u001b[0m\u001b[0;34m(\u001b[0m\u001b[0mself\u001b[0m\u001b[0;34m,\u001b[0m \u001b[0;34m**\u001b[0m\u001b[0mkwargs\u001b[0m\u001b[0;34m)\u001b[0m\u001b[0;34m\u001b[0m\u001b[0;34m\u001b[0m\u001b[0m\n\u001b[0m\u001b[1;32m    115\u001b[0m     \u001b[0;32mreturn\u001b[0m \u001b[0mwrapper\u001b[0m\u001b[0;34m\u001b[0m\u001b[0;34m\u001b[0m\u001b[0m\n\u001b[1;32m    116\u001b[0m \u001b[0;34m\u001b[0m\u001b[0m\n",
      "\u001b[0;31mTypeError\u001b[0m: __init__() got an unexpected keyword argument 'probabilityCol'"
     ]
    }
   ],
   "source": [
    "indexer=StringIndexer(inputCols=[\"sex\", \"smoker\",\"day\",\"time\"],outputCols=[\"sex_indexed\", \"smoker_indexed\",\"day_indexed\",\"time_index\"])\n",
    "assembler=VectorAssembler(inputCols=['tip','size','sex_indexed','smoker_indexed','day_indexed','time_index'],outputCol=\"Independent Features\")\n",
    "regressor=LinearRegression(featuresCol='Independent Features', labelCol='total_bill', probabilityCol='probability')\n",
    "\n",
    "#onehotencoder_qualification_vector = OneHotEncoder(inputCol=\"qualificationIndex\", outputCol=\"qualification_vec\")\n",
    "#onehotencoder_gender_vector = OneHotEncoder(inputCol=\"genderIndex\", outputCol=\"gender_vec\")\n",
    "#onehotencoder_age_vector = OneHotEncoder(inputCol=\"ageIndex\", outputCol=\"age_vec\")#Create pipeline and pass all stages\n",
    "\n",
    "pipeline = Pipeline(stages=[indexer,\n",
    "                            assembler,\n",
    "                            regressor,\n",
    "                    ])"
   ]
  },
  {
   "cell_type": "code",
   "execution_count": 41,
   "id": "df2a4887-85d1-4570-be69-3b60ae0b09c1",
   "metadata": {},
   "outputs": [
    {
     "name": "stderr",
     "output_type": "stream",
     "text": [
      "21/11/29 12:30:36 WARN Instrumentation: [e68a22e7] regParam is zero, which might cause numerical instability and overfitting.\n"
     ]
    },
    {
     "name": "stdout",
     "output_type": "stream",
     "text": [
      "+----------+----+------+------+----+------+----+-----------+--------------+-----------+----------+--------------------+------------------+\n",
      "|total_bill| tip|   sex|smoker| day|  time|size|sex_indexed|smoker_indexed|day_indexed|time_index|Independent Features|        prediction|\n",
      "+----------+----+------+------+----+------+----+-----------+--------------+-----------+----------+--------------------+------------------+\n",
      "|      7.25| 1.0|Female|    No| Sat|Dinner|   1|        1.0|           0.0|        0.0|       0.0|[1.0,1.0,1.0,0.0,...| 7.684747809552794|\n",
      "|      7.25|5.15|  Male|   Yes| Sun|Dinner|   2|        0.0|           1.0|        1.0|       0.0|[5.15,2.0,0.0,1.0...| 27.17790164142385|\n",
      "|      7.51| 2.0|  Male|    No|Thur| Lunch|   2|        0.0|           0.0|        2.0|       1.0|[2.0,2.0,0.0,0.0,...| 12.79270857853788|\n",
      "|      8.52|1.48|  Male|    No|Thur| Lunch|   2|        0.0|           0.0|        2.0|       1.0|[1.48,2.0,0.0,0.0...|11.128307027180613|\n",
      "|      8.77| 2.0|  Male|    No| Sun|Dinner|   2|        0.0|           0.0|        1.0|       0.0|[2.0,2.0,0.0,0.0,...|14.805161215422853|\n",
      "|      9.55|1.45|  Male|    No| Sat|Dinner|   2|        0.0|           0.0|        0.0|       0.0|(6,[0,1],[1.45,2.0])|13.224698080803227|\n",
      "|      9.68|1.32|  Male|    No| Sun|Dinner|   2|        0.0|           0.0|        1.0|       0.0|[1.32,2.0,0.0,0.0...| 12.62863610980181|\n",
      "|     10.07|1.83|Female|    No|Thur| Lunch|   1|        1.0|           0.0|        2.0|       1.0|[1.83,1.0,1.0,0.0...|  8.14897452724905|\n",
      "|     10.65| 1.5|Female|    No|Thur| Lunch|   2|        1.0|           0.0|        2.0|       1.0|[1.5,2.0,1.0,0.0,...|10.210481344863947|\n",
      "|     11.59| 1.5|  Male|   Yes| Sat|Dinner|   2|        0.0|           1.0|        0.0|       0.0|[1.5,2.0,0.0,1.0,...|15.675044642943599|\n",
      "|      12.6| 1.0|  Male|   Yes| Sat|Dinner|   2|        0.0|           1.0|        0.0|       0.0|[1.0,2.0,0.0,1.0,...|14.074658535869306|\n",
      "|     12.76|2.23|Female|   Yes| Sat|Dinner|   2|        1.0|           1.0|        0.0|       0.0|[2.23,2.0,1.0,1.0...|17.029767232672434|\n",
      "|     13.16|2.75|Female|    No|Thur| Lunch|   2|        1.0|           0.0|        2.0|       1.0|[2.75,2.0,1.0,0.0...|14.211446612549684|\n",
      "|     13.42|1.58|  Male|   Yes| Fri| Lunch|   2|        0.0|           1.0|        3.0|       1.0|[1.58,2.0,0.0,1.0...|13.558730616866317|\n",
      "|     13.42|1.68|Female|    No|Thur| Lunch|   2|        1.0|           0.0|        2.0|       1.0|[1.68,2.0,1.0,0.0...|10.786620343410693|\n",
      "|     13.81| 2.0|  Male|    No| Sun|Dinner|   2|        0.0|           0.0|        1.0|       0.0|[2.0,2.0,0.0,0.0,...|14.805161215422853|\n",
      "|     14.07| 2.5|  Male|    No| Sun|Dinner|   2|        0.0|           0.0|        1.0|       0.0|[2.5,2.0,0.0,0.0,...|16.405547322497146|\n",
      "|     14.31| 4.0|Female|   Yes| Sat|Dinner|   2|        1.0|           1.0|        0.0|       0.0|[4.0,2.0,1.0,1.0,...| 22.69513405171544|\n",
      "|     14.48| 2.0|  Male|   Yes| Sun|Dinner|   2|        0.0|           1.0|        1.0|       0.0|[2.0,2.0,0.0,1.0,...|17.095469166855796|\n",
      "|     14.83|3.02|Female|    No| Sun|Dinner|   2|        1.0|           0.0|        1.0|       0.0|[3.02,2.0,1.0,0.0...|17.088107747254778|\n",
      "+----------+----+------+------+----+------+----+-----------+--------------+-----------+----------+--------------------+------------------+\n",
      "only showing top 20 rows\n",
      "\n"
     ]
    }
   ],
   "source": [
    "#run pipeline\n",
    "model = pipeline.fit(train_data)\n",
    "df_predicted = model.transform(test_data)\n",
    "df_predicted.show()"
   ]
  },
  {
   "cell_type": "code",
   "execution_count": 42,
   "id": "7167ce84-3468-4777-9f67-8e6a4916d450",
   "metadata": {},
   "outputs": [
    {
     "data": {
      "text/plain": [
       "(0.4797767481799341, 3.5638208485479517, 24.281584682241192)"
      ]
     },
     "execution_count": 42,
     "metadata": {},
     "output_type": "execute_result"
    }
   ],
   "source": [
    "pred_results.r2,pred_results.meanAbsoluteError,pred_results.meanSquaredError"
   ]
  },
  {
   "cell_type": "code",
   "execution_count": 43,
   "id": "0683fba6-c206-4f07-bccb-bdfb2384d1db",
   "metadata": {},
   "outputs": [
    {
     "ename": "AnalysisException",
     "evalue": "cannot resolve 'probability' given input columns: [Independent Features, day, day_indexed, prediction, sex, sex_indexed, size, smoker, smoker_indexed, time, time_index, tip, total_bill];\n'Project [total_bill#1674, tip#1675, 'probability, prediction#1905]\n+- Project [total_bill#1674, tip#1675, sex#1676, smoker#1677, day#1678, time#1679, size#1680, sex_indexed#1861, smoker_indexed#1862, day_indexed#1863, time_index#1864, Independent Features#1890, UDF(Independent Features#1890) AS prediction#1905]\n   +- Project [total_bill#1674, tip#1675, sex#1676, smoker#1677, day#1678, time#1679, size#1680, sex_indexed#1861, smoker_indexed#1862, day_indexed#1863, time_index#1864, UDF(struct(tip, tip#1675, size_double_VectorAssembler_23f101a65a55, cast(size#1680 as double), sex_indexed, sex_indexed#1861, smoker_indexed, smoker_indexed#1862, day_indexed, day_indexed#1863, time_index, time_index#1864)) AS Independent Features#1890]\n      +- Project [total_bill#1674, tip#1675, sex#1676, smoker#1677, day#1678, time#1679, size#1680, UDF(cast(sex#1676 as string)) AS sex_indexed#1861, UDF(cast(smoker#1677 as string)) AS smoker_indexed#1862, UDF(cast(day#1678 as string)) AS day_indexed#1863, UDF(cast(time#1679 as string)) AS time_index#1864]\n         +- Sample 0.75, 1.0, false, 5065149770951503211\n            +- Sort [total_bill#1674 ASC NULLS FIRST, tip#1675 ASC NULLS FIRST, sex#1676 ASC NULLS FIRST, smoker#1677 ASC NULLS FIRST, day#1678 ASC NULLS FIRST, time#1679 ASC NULLS FIRST, size#1680 ASC NULLS FIRST], false\n               +- Relation [total_bill#1674,tip#1675,sex#1676,smoker#1677,day#1678,time#1679,size#1680] csv\n",
     "output_type": "error",
     "traceback": [
      "\u001b[0;31m---------------------------------------------------------------------------\u001b[0m",
      "\u001b[0;31mAnalysisException\u001b[0m                         Traceback (most recent call last)",
      "\u001b[0;32m/tmp/ipykernel_1588/4178110677.py\u001b[0m in \u001b[0;36m<module>\u001b[0;34m\u001b[0m\n\u001b[1;32m      1\u001b[0m \u001b[0;31m# Make predictions on test documents and print columns of interest.\u001b[0m\u001b[0;34m\u001b[0m\u001b[0;34m\u001b[0m\u001b[0m\n\u001b[0;32m----> 2\u001b[0;31m \u001b[0mselected\u001b[0m \u001b[0;34m=\u001b[0m \u001b[0mdf_predicted\u001b[0m\u001b[0;34m.\u001b[0m\u001b[0mselect\u001b[0m\u001b[0;34m(\u001b[0m\u001b[0;34m\"total_bill\"\u001b[0m\u001b[0;34m,\u001b[0m \u001b[0;34m\"tip\"\u001b[0m\u001b[0;34m,\u001b[0m \u001b[0;34m\"probability\"\u001b[0m\u001b[0;34m,\u001b[0m \u001b[0;34m\"prediction\"\u001b[0m\u001b[0;34m)\u001b[0m\u001b[0;34m\u001b[0m\u001b[0;34m\u001b[0m\u001b[0m\n\u001b[0m\u001b[1;32m      3\u001b[0m \u001b[0;32mfor\u001b[0m \u001b[0mrow\u001b[0m \u001b[0;32min\u001b[0m \u001b[0mselected\u001b[0m\u001b[0;34m.\u001b[0m\u001b[0mcollect\u001b[0m\u001b[0;34m(\u001b[0m\u001b[0;34m)\u001b[0m\u001b[0;34m:\u001b[0m\u001b[0;34m\u001b[0m\u001b[0;34m\u001b[0m\u001b[0m\n\u001b[1;32m      4\u001b[0m     \u001b[0mrid\u001b[0m\u001b[0;34m,\u001b[0m \u001b[0mtext\u001b[0m\u001b[0;34m,\u001b[0m \u001b[0mprob\u001b[0m\u001b[0;34m,\u001b[0m \u001b[0mprediction\u001b[0m \u001b[0;34m=\u001b[0m \u001b[0mrow\u001b[0m  \u001b[0;31m# type: ignore\u001b[0m\u001b[0;34m\u001b[0m\u001b[0;34m\u001b[0m\u001b[0m\n\u001b[1;32m      5\u001b[0m     print(\n",
      "\u001b[0;32m/usr/local/spark/python/pyspark/sql/dataframe.py\u001b[0m in \u001b[0;36mselect\u001b[0;34m(self, *cols)\u001b[0m\n\u001b[1;32m   1683\u001b[0m         \u001b[0;34m[\u001b[0m\u001b[0mRow\u001b[0m\u001b[0;34m(\u001b[0m\u001b[0mname\u001b[0m\u001b[0;34m=\u001b[0m\u001b[0;34m'Alice'\u001b[0m\u001b[0;34m,\u001b[0m \u001b[0mage\u001b[0m\u001b[0;34m=\u001b[0m\u001b[0;36m12\u001b[0m\u001b[0;34m)\u001b[0m\u001b[0;34m,\u001b[0m \u001b[0mRow\u001b[0m\u001b[0;34m(\u001b[0m\u001b[0mname\u001b[0m\u001b[0;34m=\u001b[0m\u001b[0;34m'Bob'\u001b[0m\u001b[0;34m,\u001b[0m \u001b[0mage\u001b[0m\u001b[0;34m=\u001b[0m\u001b[0;36m15\u001b[0m\u001b[0;34m)\u001b[0m\u001b[0;34m]\u001b[0m\u001b[0;34m\u001b[0m\u001b[0;34m\u001b[0m\u001b[0m\n\u001b[1;32m   1684\u001b[0m         \"\"\"\n\u001b[0;32m-> 1685\u001b[0;31m         \u001b[0mjdf\u001b[0m \u001b[0;34m=\u001b[0m \u001b[0mself\u001b[0m\u001b[0;34m.\u001b[0m\u001b[0m_jdf\u001b[0m\u001b[0;34m.\u001b[0m\u001b[0mselect\u001b[0m\u001b[0;34m(\u001b[0m\u001b[0mself\u001b[0m\u001b[0;34m.\u001b[0m\u001b[0m_jcols\u001b[0m\u001b[0;34m(\u001b[0m\u001b[0;34m*\u001b[0m\u001b[0mcols\u001b[0m\u001b[0;34m)\u001b[0m\u001b[0;34m)\u001b[0m\u001b[0;34m\u001b[0m\u001b[0;34m\u001b[0m\u001b[0m\n\u001b[0m\u001b[1;32m   1686\u001b[0m         \u001b[0;32mreturn\u001b[0m \u001b[0mDataFrame\u001b[0m\u001b[0;34m(\u001b[0m\u001b[0mjdf\u001b[0m\u001b[0;34m,\u001b[0m \u001b[0mself\u001b[0m\u001b[0;34m.\u001b[0m\u001b[0msql_ctx\u001b[0m\u001b[0;34m)\u001b[0m\u001b[0;34m\u001b[0m\u001b[0;34m\u001b[0m\u001b[0m\n\u001b[1;32m   1687\u001b[0m \u001b[0;34m\u001b[0m\u001b[0m\n",
      "\u001b[0;32m/usr/local/spark/python/lib/py4j-0.10.9.2-src.zip/py4j/java_gateway.py\u001b[0m in \u001b[0;36m__call__\u001b[0;34m(self, *args)\u001b[0m\n\u001b[1;32m   1307\u001b[0m \u001b[0;34m\u001b[0m\u001b[0m\n\u001b[1;32m   1308\u001b[0m         \u001b[0manswer\u001b[0m \u001b[0;34m=\u001b[0m \u001b[0mself\u001b[0m\u001b[0;34m.\u001b[0m\u001b[0mgateway_client\u001b[0m\u001b[0;34m.\u001b[0m\u001b[0msend_command\u001b[0m\u001b[0;34m(\u001b[0m\u001b[0mcommand\u001b[0m\u001b[0;34m)\u001b[0m\u001b[0;34m\u001b[0m\u001b[0;34m\u001b[0m\u001b[0m\n\u001b[0;32m-> 1309\u001b[0;31m         return_value = get_return_value(\n\u001b[0m\u001b[1;32m   1310\u001b[0m             answer, self.gateway_client, self.target_id, self.name)\n\u001b[1;32m   1311\u001b[0m \u001b[0;34m\u001b[0m\u001b[0m\n",
      "\u001b[0;32m/usr/local/spark/python/pyspark/sql/utils.py\u001b[0m in \u001b[0;36mdeco\u001b[0;34m(*a, **kw)\u001b[0m\n\u001b[1;32m    115\u001b[0m                 \u001b[0;31m# Hide where the exception came from that shows a non-Pythonic\u001b[0m\u001b[0;34m\u001b[0m\u001b[0;34m\u001b[0m\u001b[0m\n\u001b[1;32m    116\u001b[0m                 \u001b[0;31m# JVM exception message.\u001b[0m\u001b[0;34m\u001b[0m\u001b[0;34m\u001b[0m\u001b[0m\n\u001b[0;32m--> 117\u001b[0;31m                 \u001b[0;32mraise\u001b[0m \u001b[0mconverted\u001b[0m \u001b[0;32mfrom\u001b[0m \u001b[0;32mNone\u001b[0m\u001b[0;34m\u001b[0m\u001b[0;34m\u001b[0m\u001b[0m\n\u001b[0m\u001b[1;32m    118\u001b[0m             \u001b[0;32melse\u001b[0m\u001b[0;34m:\u001b[0m\u001b[0;34m\u001b[0m\u001b[0;34m\u001b[0m\u001b[0m\n\u001b[1;32m    119\u001b[0m                 \u001b[0;32mraise\u001b[0m\u001b[0;34m\u001b[0m\u001b[0;34m\u001b[0m\u001b[0m\n",
      "\u001b[0;31mAnalysisException\u001b[0m: cannot resolve 'probability' given input columns: [Independent Features, day, day_indexed, prediction, sex, sex_indexed, size, smoker, smoker_indexed, time, time_index, tip, total_bill];\n'Project [total_bill#1674, tip#1675, 'probability, prediction#1905]\n+- Project [total_bill#1674, tip#1675, sex#1676, smoker#1677, day#1678, time#1679, size#1680, sex_indexed#1861, smoker_indexed#1862, day_indexed#1863, time_index#1864, Independent Features#1890, UDF(Independent Features#1890) AS prediction#1905]\n   +- Project [total_bill#1674, tip#1675, sex#1676, smoker#1677, day#1678, time#1679, size#1680, sex_indexed#1861, smoker_indexed#1862, day_indexed#1863, time_index#1864, UDF(struct(tip, tip#1675, size_double_VectorAssembler_23f101a65a55, cast(size#1680 as double), sex_indexed, sex_indexed#1861, smoker_indexed, smoker_indexed#1862, day_indexed, day_indexed#1863, time_index, time_index#1864)) AS Independent Features#1890]\n      +- Project [total_bill#1674, tip#1675, sex#1676, smoker#1677, day#1678, time#1679, size#1680, UDF(cast(sex#1676 as string)) AS sex_indexed#1861, UDF(cast(smoker#1677 as string)) AS smoker_indexed#1862, UDF(cast(day#1678 as string)) AS day_indexed#1863, UDF(cast(time#1679 as string)) AS time_index#1864]\n         +- Sample 0.75, 1.0, false, 5065149770951503211\n            +- Sort [total_bill#1674 ASC NULLS FIRST, tip#1675 ASC NULLS FIRST, sex#1676 ASC NULLS FIRST, smoker#1677 ASC NULLS FIRST, day#1678 ASC NULLS FIRST, time#1679 ASC NULLS FIRST, size#1680 ASC NULLS FIRST], false\n               +- Relation [total_bill#1674,tip#1675,sex#1676,smoker#1677,day#1678,time#1679,size#1680] csv\n"
     ]
    }
   ],
   "source": [
    "# Make predictions on test documents and print columns of interest.\n",
    "selected = df_predicted.select(\"total_bill\", \"tip\", \"probability\", \"prediction\")\n",
    "for row in selected.collect():\n",
    "    rid, text, prob, prediction = row  # type: ignore\n",
    "    print(\n",
    "        \"(%d, %s) --> prob=%s, prediction=%f\" % (\n",
    "            rid, text, str(prob), prediction   # type: ignore\n",
    "        )\n",
    "    )"
   ]
  },
  {
   "cell_type": "markdown",
   "id": "996dffa2-c833-4f67-86c8-1e3549955b65",
   "metadata": {},
   "source": [
    "## One Hot Encoder"
   ]
  },
  {
   "cell_type": "code",
   "execution_count": 24,
   "id": "9bd29226-e450-46aa-b204-24f360d3ed26",
   "metadata": {},
   "outputs": [
    {
     "name": "stdout",
     "output_type": "stream",
     "text": [
      "+----------+----+------+------+---+------+----+-----------+--------------+-----------+----------+-------------+-------------+\n",
      "|total_bill| tip|   sex|smoker|day|  time|size|sex_indexed|smoker_indexed|day_indexed|time_index|      sexVec1|     timeVec2|\n",
      "+----------+----+------+------+---+------+----+-----------+--------------+-----------+----------+-------------+-------------+\n",
      "|     16.99|1.01|Female|    No|Sun|Dinner|   2|        1.0|           0.0|        1.0|       0.0|    (1,[],[])|(1,[0],[1.0])|\n",
      "|     10.34|1.66|  Male|    No|Sun|Dinner|   3|        0.0|           0.0|        1.0|       0.0|(1,[0],[1.0])|(1,[0],[1.0])|\n",
      "|     21.01| 3.5|  Male|    No|Sun|Dinner|   3|        0.0|           0.0|        1.0|       0.0|(1,[0],[1.0])|(1,[0],[1.0])|\n",
      "|     23.68|3.31|  Male|    No|Sun|Dinner|   2|        0.0|           0.0|        1.0|       0.0|(1,[0],[1.0])|(1,[0],[1.0])|\n",
      "|     24.59|3.61|Female|    No|Sun|Dinner|   4|        1.0|           0.0|        1.0|       0.0|    (1,[],[])|(1,[0],[1.0])|\n",
      "|     25.29|4.71|  Male|    No|Sun|Dinner|   4|        0.0|           0.0|        1.0|       0.0|(1,[0],[1.0])|(1,[0],[1.0])|\n",
      "|      8.77| 2.0|  Male|    No|Sun|Dinner|   2|        0.0|           0.0|        1.0|       0.0|(1,[0],[1.0])|(1,[0],[1.0])|\n",
      "|     26.88|3.12|  Male|    No|Sun|Dinner|   4|        0.0|           0.0|        1.0|       0.0|(1,[0],[1.0])|(1,[0],[1.0])|\n",
      "|     15.04|1.96|  Male|    No|Sun|Dinner|   2|        0.0|           0.0|        1.0|       0.0|(1,[0],[1.0])|(1,[0],[1.0])|\n",
      "|     14.78|3.23|  Male|    No|Sun|Dinner|   2|        0.0|           0.0|        1.0|       0.0|(1,[0],[1.0])|(1,[0],[1.0])|\n",
      "|     10.27|1.71|  Male|    No|Sun|Dinner|   2|        0.0|           0.0|        1.0|       0.0|(1,[0],[1.0])|(1,[0],[1.0])|\n",
      "|     35.26| 5.0|Female|    No|Sun|Dinner|   4|        1.0|           0.0|        1.0|       0.0|    (1,[],[])|(1,[0],[1.0])|\n",
      "|     15.42|1.57|  Male|    No|Sun|Dinner|   2|        0.0|           0.0|        1.0|       0.0|(1,[0],[1.0])|(1,[0],[1.0])|\n",
      "|     18.43| 3.0|  Male|    No|Sun|Dinner|   4|        0.0|           0.0|        1.0|       0.0|(1,[0],[1.0])|(1,[0],[1.0])|\n",
      "|     14.83|3.02|Female|    No|Sun|Dinner|   2|        1.0|           0.0|        1.0|       0.0|    (1,[],[])|(1,[0],[1.0])|\n",
      "|     21.58|3.92|  Male|    No|Sun|Dinner|   2|        0.0|           0.0|        1.0|       0.0|(1,[0],[1.0])|(1,[0],[1.0])|\n",
      "|     10.33|1.67|Female|    No|Sun|Dinner|   3|        1.0|           0.0|        1.0|       0.0|    (1,[],[])|(1,[0],[1.0])|\n",
      "|     16.29|3.71|  Male|    No|Sun|Dinner|   3|        0.0|           0.0|        1.0|       0.0|(1,[0],[1.0])|(1,[0],[1.0])|\n",
      "|     16.97| 3.5|Female|    No|Sun|Dinner|   3|        1.0|           0.0|        1.0|       0.0|    (1,[],[])|(1,[0],[1.0])|\n",
      "|     20.65|3.35|  Male|    No|Sat|Dinner|   3|        0.0|           0.0|        0.0|       0.0|(1,[0],[1.0])|(1,[0],[1.0])|\n",
      "+----------+----+------+------+---+------+----+-----------+--------------+-----------+----------+-------------+-------------+\n",
      "only showing top 20 rows\n",
      "\n"
     ]
    }
   ],
   "source": [
    "from pyspark.ml.feature import OneHotEncoder\n",
    "\n",
    "encoder = OneHotEncoder(inputCols=[\"sex_indexed\",\"time_index\"],\n",
    "                        outputCols=[\"sexVec1\", \"timeVec2\"])\n",
    "model = encoder.fit(df_r)\n",
    "encoded = model.transform(df_r)\n",
    "encoded.show()"
   ]
  },
  {
   "cell_type": "markdown",
   "id": "f10e1385-e925-444d-bf4e-b48fb80c54d8",
   "metadata": {},
   "source": [
    "### With pipeline"
   ]
  },
  {
   "cell_type": "code",
   "execution_count": 25,
   "id": "af03e83a-912a-4473-9972-a4faf6684f2e",
   "metadata": {},
   "outputs": [],
   "source": [
    "#reload data\n",
    "df=spark.read.csv('tips.csv',header=True,inferSchema=True) #inferSchema --> age type turns from string to integer\n",
    "train_data,test_data=df.randomSplit([0.75,0.25])"
   ]
  },
  {
   "cell_type": "code",
   "execution_count": 26,
   "id": "38bfe044-ef4f-46c4-beca-c561c2f65830",
   "metadata": {},
   "outputs": [],
   "source": [
    "indexer=StringIndexer(inputCols=[\"sex\", \"smoker\",\"day\",\"time\"],outputCols=[\"sex_indexed\", \"smoker_indexed\",\"day_indexed\",\"time_index\"])\n",
    "encoder = OneHotEncoder(inputCols=[\"sex_indexed\", \"smoker_indexed\",\"day_indexed\",\"time_index\"]\n",
    "                        ,outputCols=[\"sex_vec\", \"smoker_vec\",\"day_vec\",\"time_vec\"])\n",
    "assembler=VectorAssembler(inputCols=['tip','size',\"sex_vec\", \"smoker_vec\",\"day_vec\",\"time_vec\"],outputCol=\"Independent Features\")\n",
    "regressor=LinearRegression(featuresCol='Independent Features', labelCol='total_bill')\n",
    "\n",
    "#onehotencoder_qualification_vector = OneHotEncoder(inputCol=\"qualificationIndex\", outputCol=\"qualification_vec\")\n",
    "#onehotencoder_gender_vector = OneHotEncoder(inputCol=\"genderIndex\", outputCol=\"gender_vec\")\n",
    "#onehotencoder_age_vector = OneHotEncoder(inputCol=\"ageIndex\", outputCol=\"age_vec\")#Create pipeline and pass all stages\n",
    "\n",
    "pipeline = Pipeline(stages=[indexer,\n",
    "                            encoder,\n",
    "                            assembler,\n",
    "                            regressor,\n",
    "                    ])"
   ]
  },
  {
   "cell_type": "code",
   "execution_count": 27,
   "id": "6261ac8a-5adc-4112-8701-ff6a0b615152",
   "metadata": {},
   "outputs": [
    {
     "name": "stderr",
     "output_type": "stream",
     "text": [
      "21/11/29 12:20:40 WARN Instrumentation: [231902eb] regParam is zero, which might cause numerical instability and overfitting.\n"
     ]
    },
    {
     "name": "stdout",
     "output_type": "stream",
     "text": [
      "+----------+----+------+------+----+------+----+-----------+--------------+-----------+----------+-------------+-------------+-------------+-------------+--------------------+------------------+\n",
      "|total_bill| tip|   sex|smoker| day|  time|size|sex_indexed|smoker_indexed|day_indexed|time_index|      sex_vec|   smoker_vec|      day_vec|     time_vec|Independent Features|        prediction|\n",
      "+----------+----+------+------+----+------+----+-----------+--------------+-----------+----------+-------------+-------------+-------------+-------------+--------------------+------------------+\n",
      "|      3.07| 1.0|Female|   Yes| Sat|Dinner|   1|        1.0|           1.0|        0.0|       0.0|    (1,[],[])|    (1,[],[])|(3,[0],[1.0])|(1,[0],[1.0])|(8,[0,1,4,7],[1.0...| 9.923824112756874|\n",
      "|      7.74|1.44|  Male|   Yes| Sat|Dinner|   2|        0.0|           1.0|        0.0|       0.0|(1,[0],[1.0])|    (1,[],[])|(3,[0],[1.0])|(1,[0],[1.0])|[1.44,2.0,1.0,0.0...|15.748836464820725|\n",
      "|      8.52|1.48|  Male|    No|Thur| Lunch|   2|        0.0|           0.0|        2.0|       1.0|(1,[0],[1.0])|(1,[0],[1.0])|(3,[2],[1.0])|    (1,[],[])|[1.48,2.0,1.0,1.0...|12.035252685951308|\n",
      "|      9.94|1.56|  Male|    No| Sun|Dinner|   2|        0.0|           0.0|        1.0|       0.0|(1,[0],[1.0])|(1,[0],[1.0])|(3,[1],[1.0])|(1,[0],[1.0])|[1.56,2.0,1.0,1.0...|13.100948078683091|\n",
      "|     10.27|1.71|  Male|    No| Sun|Dinner|   2|        0.0|           0.0|        1.0|       0.0|(1,[0],[1.0])|(1,[0],[1.0])|(3,[1],[1.0])|(1,[0],[1.0])|[1.71,2.0,1.0,1.0...|13.588626495789388|\n",
      "|     10.65| 1.5|Female|    No|Thur| Lunch|   2|        1.0|           0.0|        2.0|       1.0|    (1,[],[])|(1,[0],[1.0])|(3,[2],[1.0])|    (1,[],[])|(8,[0,1,3,6],[1.5...|10.623686853851014|\n",
      "|     11.17| 1.5|Female|    No|Thur| Lunch|   2|        1.0|           0.0|        2.0|       1.0|    (1,[],[])|(1,[0],[1.0])|(3,[2],[1.0])|    (1,[],[])|(8,[0,1,3,6],[1.5...|10.623686853851014|\n",
      "|     11.35| 2.5|Female|   Yes| Fri|Dinner|   2|        1.0|           1.0|        3.0|       0.0|    (1,[],[])|    (1,[],[])|    (3,[],[])|(1,[0],[1.0])|(8,[0,1,7],[2.5,2...| 17.29580972728111|\n",
      "|     11.61|3.39|  Male|    No| Sat|Dinner|   2|        0.0|           0.0|        0.0|       0.0|(1,[0],[1.0])|(1,[0],[1.0])|(3,[0],[1.0])|(1,[0],[1.0])|[3.39,2.0,1.0,1.0...|19.366614142577337|\n",
      "|     13.13| 2.0|  Male|    No| Sun|Dinner|   2|        0.0|           0.0|        1.0|       0.0|(1,[0],[1.0])|(1,[0],[1.0])|(3,[1],[1.0])|(1,[0],[1.0])|[2.0,2.0,1.0,1.0,...| 14.53147143552823|\n",
      "|     13.28|2.72|  Male|    No| Sat|Dinner|   2|        0.0|           0.0|        0.0|       0.0|(1,[0],[1.0])|(1,[0],[1.0])|(3,[0],[1.0])|(1,[0],[1.0])|[2.72,2.0,1.0,1.0...|17.188317212835873|\n",
      "|     13.37| 2.0|  Male|    No| Sat|Dinner|   2|        0.0|           0.0|        0.0|       0.0|(1,[0],[1.0])|(1,[0],[1.0])|(3,[0],[1.0])|(1,[0],[1.0])|[2.0,2.0,1.0,1.0,...|14.847460810725638|\n",
      "|     13.42|1.58|  Male|   Yes| Fri| Lunch|   2|        0.0|           1.0|        3.0|       1.0|(1,[0],[1.0])|    (1,[],[])|    (3,[],[])|    (1,[],[])|(8,[0,1,2],[1.58,...|10.842534511667782|\n",
      "|     13.42|1.68|Female|    No|Thur| Lunch|   2|        1.0|           0.0|        2.0|       1.0|    (1,[],[])|(1,[0],[1.0])|(3,[2],[1.0])|    (1,[],[])|(8,[0,1,3,6],[1.6...|11.208900954378572|\n",
      "|     14.48| 2.0|  Male|   Yes| Sun|Dinner|   2|        0.0|           1.0|        1.0|       0.0|(1,[0],[1.0])|    (1,[],[])|(3,[1],[1.0])|(1,[0],[1.0])|[2.0,2.0,1.0,0.0,...|17.253513180153497|\n",
      "|     14.52| 2.0|Female|    No|Thur| Lunch|   2|        1.0|           0.0|        2.0|       1.0|    (1,[],[])|(1,[0],[1.0])|(3,[2],[1.0])|    (1,[],[])|(8,[0,1,3,6],[2.0...|12.249281577538676|\n",
      "|     14.78|3.23|  Male|    No| Sun|Dinner|   2|        0.0|           0.0|        1.0|       0.0|(1,[0],[1.0])|(1,[0],[1.0])|(3,[1],[1.0])|(1,[0],[1.0])|[3.23,2.0,1.0,1.0...|18.530434455799874|\n",
      "|     15.01|2.09|  Male|   Yes| Sat|Dinner|   2|        0.0|           1.0|        0.0|       0.0|(1,[0],[1.0])|    (1,[],[])|(3,[0],[1.0])|(1,[0],[1.0])|[2.09,2.0,1.0,0.0...|17.862109605614684|\n",
      "|     15.77|2.23|Female|    No| Sat|Dinner|   2|        1.0|           0.0|        0.0|       0.0|    (1,[],[])|(1,[0],[1.0])|(3,[0],[1.0])|(1,[0],[1.0])|[2.23,2.0,0.0,1.0...| 14.11864476257416|\n",
      "|     15.95| 2.0|  Male|    No|Thur| Lunch|   2|        0.0|           0.0|        2.0|       1.0|(1,[0],[1.0])|(1,[0],[1.0])|(3,[2],[1.0])|    (1,[],[])|[2.0,2.0,1.0,1.0,...|13.725871198586477|\n",
      "+----------+----+------+------+----+------+----+-----------+--------------+-----------+----------+-------------+-------------+-------------+-------------+--------------------+------------------+\n",
      "only showing top 20 rows\n",
      "\n"
     ]
    }
   ],
   "source": [
    "#run pipeline\n",
    "model = pipeline.fit(train_data)\n",
    "df_predicted = model.transform(test_data)\n",
    "df_predicted.show()"
   ]
  },
  {
   "cell_type": "code",
   "execution_count": null,
   "id": "2a2cdb4a-85d6-4ad9-b423-b8e55c39e6f5",
   "metadata": {},
   "outputs": [],
   "source": []
  }
 ],
 "metadata": {
  "kernelspec": {
   "display_name": "Python 3 (ipykernel)",
   "language": "python",
   "name": "python3"
  },
  "language_info": {
   "codemirror_mode": {
    "name": "ipython",
    "version": 3
   },
   "file_extension": ".py",
   "mimetype": "text/x-python",
   "name": "python",
   "nbconvert_exporter": "python",
   "pygments_lexer": "ipython3",
   "version": "3.9.7"
  }
 },
 "nbformat": 4,
 "nbformat_minor": 5
}
