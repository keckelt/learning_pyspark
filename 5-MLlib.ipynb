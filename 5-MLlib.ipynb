{
 "cells": [
  {
   "cell_type": "markdown",
   "id": "7c23ed18-9fe8-4893-8a44-79724951dfec",
   "metadata": {},
   "source": [
    "# Spark MLlib\n",
    "see: http://spark.apache.org/mllib/\n",
    "\n",
    "compare: https://github.com/krishnaik06/Pyspark-With-Python/blob/main/Tutorial%206-Example%20Of%20Pyspark%20ML.ipynb"
   ]
  },
  {
   "cell_type": "code",
   "execution_count": 1,
   "id": "04d9e1ae-b2a5-4af7-bff3-b36f067f1daf",
   "metadata": {},
   "outputs": [],
   "source": [
    "from pyspark.sql import SparkSession"
   ]
  },
  {
   "cell_type": "code",
   "execution_count": 2,
   "id": "93901afc-1ec6-4647-bb4b-430f3a6b147c",
   "metadata": {
    "collapsed": true,
    "jupyter": {
     "outputs_hidden": true
    },
    "tags": []
   },
   "outputs": [
    {
     "name": "stderr",
     "output_type": "stream",
     "text": [
      "WARNING: An illegal reflective access operation has occurred\n",
      "WARNING: Illegal reflective access by org.apache.spark.unsafe.Platform (file:/usr/local/spark-3.2.0-bin-hadoop3.2/jars/spark-unsafe_2.12-3.2.0.jar) to constructor java.nio.DirectByteBuffer(long,int)\n",
      "WARNING: Please consider reporting this to the maintainers of org.apache.spark.unsafe.Platform\n",
      "WARNING: Use --illegal-access=warn to enable warnings of further illegal reflective access operations\n",
      "WARNING: All illegal access operations will be denied in a future release\n",
      "Using Spark's default log4j profile: org/apache/spark/log4j-defaults.properties\n",
      "Setting default log level to \"WARN\".\n",
      "To adjust logging level use sc.setLogLevel(newLevel). For SparkR, use setLogLevel(newLevel).\n",
      "21/11/22 13:05:10 WARN NativeCodeLoader: Unable to load native-hadoop library for your platform... using builtin-java classes where applicable\n",
      "21/11/22 13:05:11 WARN Utils: Service 'SparkUI' could not bind on port 4040. Attempting port 4041.\n",
      "21/11/22 13:05:11 WARN Utils: Service 'SparkUI' could not bind on port 4041. Attempting port 4042.\n",
      "21/11/22 13:05:11 WARN Utils: Service 'SparkUI' could not bind on port 4042. Attempting port 4043.\n",
      "21/11/22 13:05:11 WARN Utils: Service 'SparkUI' could not bind on port 4043. Attempting port 4044.\n",
      "21/11/22 13:05:11 WARN Utils: Service 'SparkUI' could not bind on port 4044. Attempting port 4045.\n"
     ]
    }
   ],
   "source": [
    "spark=SparkSession.builder.appName('MLlib').getOrCreate()"
   ]
  },
  {
   "cell_type": "code",
   "execution_count": 3,
   "id": "51f26e44-8d3c-40a8-affb-2989ac7a4dbb",
   "metadata": {},
   "outputs": [],
   "source": [
    "df=spark.read.csv('wine_plain.csv',header=True,inferSchema=True) #inferSchema --> age type turns from string to integer"
   ]
  },
  {
   "cell_type": "code",
   "execution_count": 4,
   "id": "d5b6d3b5-83ff-4f48-8c63-e5119b51ec3f",
   "metadata": {},
   "outputs": [
    {
     "name": "stdout",
     "output_type": "stream",
     "text": [
      "+---------------+--------------------+--------+-----+---------------+-----+---------+-----+----------+--------------+-------+-----+--------------------+\n",
      "|Winzer/Erzeuger|                Name|     Typ|Farbe|       Rebsorte|  Bio|# Gekauft|Preis|  Herkunft|        Region|Alkohol|notes|           Shop Link|\n",
      "+---------------+--------------------+--------+-----+---------------+-----+---------+-----+----------+--------------+-------+-----+--------------------+\n",
      "|        Fiorini|Becco rosso Lambr...|Perlwein|  rot|      Lambrusco|false|        1|  8.9|   Italien|Emilia Romagna|  0.115| null|https://tuttovino...|\n",
      "|        Fiorini|Re Gusto Lambrusc...|Perlwein|  rot|      Lambrusco|false|        9|  8.9|   Italien|Emilia Romagna|   0.09| null|https://tuttovino...|\n",
      "|    Gschweicher|Grüner Veltliner ...|    Wein| weiß|Grüner Vetliner|false|        3|  8.9|Österreich|   Weinviertel|  0.089| null|https://tuttovino...|\n",
      "|Gruber Röschitz|  Gelber Muskateller|    Wein| weiß|    Muskateller| true|        5|  9.4|Österreich|   Weinviertel|   0.11| null|https://tuttovino...|\n",
      "|       Sandeman| Late Bottle Vintage|Portwein|  rot|           null|false|     null| null|  Portugal|   Porto/Douro|    0.2| null|https://www.sande...|\n",
      "+---------------+--------------------+--------+-----+---------------+-----+---------+-----+----------+--------------+-------+-----+--------------------+\n",
      "only showing top 5 rows\n",
      "\n",
      "root\n",
      " |-- Winzer/Erzeuger: string (nullable = true)\n",
      " |-- Name: string (nullable = true)\n",
      " |-- Typ: string (nullable = true)\n",
      " |-- Farbe: string (nullable = true)\n",
      " |-- Rebsorte: string (nullable = true)\n",
      " |-- Bio: boolean (nullable = true)\n",
      " |-- # Gekauft: integer (nullable = true)\n",
      " |-- Preis: double (nullable = true)\n",
      " |-- Herkunft: string (nullable = true)\n",
      " |-- Region: string (nullable = true)\n",
      " |-- Alkohol: double (nullable = true)\n",
      " |-- notes: string (nullable = true)\n",
      " |-- Shop Link: string (nullable = true)\n",
      "\n"
     ]
    }
   ],
   "source": [
    "df.show(5)\n",
    "df.printSchema()"
   ]
  },
  {
   "cell_type": "markdown",
   "id": "3daac437-9359-4536-87c6-e81700df2782",
   "metadata": {},
   "source": [
    "**Predict price"
   ]
  }
 ],
 "metadata": {
  "kernelspec": {
   "display_name": "Python 3 (ipykernel)",
   "language": "python",
   "name": "python3"
  },
  "language_info": {
   "codemirror_mode": {
    "name": "ipython",
    "version": 3
   },
   "file_extension": ".py",
   "mimetype": "text/x-python",
   "name": "python",
   "nbconvert_exporter": "python",
   "pygments_lexer": "ipython3",
   "version": "3.9.7"
  }
 },
 "nbformat": 4,
 "nbformat_minor": 5
}
